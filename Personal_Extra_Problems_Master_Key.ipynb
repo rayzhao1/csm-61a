{
  "nbformat": 4,
  "nbformat_minor": 0,
  "metadata": {
    "colab": {
      "provenance": [],
      "toc_visible": true,
      "authorship_tag": "ABX9TyNCqmF8JJ/OSTMyae1Mp57a",
      "include_colab_link": true
    },
    "kernelspec": {
      "name": "python3",
      "display_name": "Python 3"
    },
    "language_info": {
      "name": "python"
    }
  },
  "cells": [
    {
      "cell_type": "markdown",
      "metadata": {
        "id": "view-in-github",
        "colab_type": "text"
      },
      "source": [
        "<a href=\"https://colab.research.google.com/github/raymondzhao1/csm-61a/blob/main/Personal_Extra_Problems_Master_Key.ipynb\" target=\"_parent\"><img src=\"https://colab.research.google.com/assets/colab-badge.svg\" alt=\"Open In Colab\"/></a>"
      ]
    },
    {
      "cell_type": "markdown",
      "source": [
        "# **2/10: Higher-Order Environments, Currying, and Recursion**"
      ],
      "metadata": {
        "id": "fs0WTuKVQIjQ"
      }
    },
    {
      "cell_type": "markdown",
      "source": [
        "# Q1: No Zeros\n",
        "Write a function that removes all 0's from an integer."
      ],
      "metadata": {
        "id": "HOUr5XI0h0h6"
      }
    },
    {
      "cell_type": "code",
      "source": [],
      "metadata": {
        "id": "JHY1v3jmUaoe"
      },
      "execution_count": null,
      "outputs": []
    },
    {
      "cell_type": "code",
      "execution_count": null,
      "metadata": {
        "id": "9iwxyFrZQEvj"
      },
      "outputs": [],
      "source": [
        "def no_zeros(n):\n",
        "    \"\"\" If n is a valid positive integer, no_zeros(n) returns n with all 0's removed.\n",
        "    >>> no_zeros(0)\n",
        "    0 \n",
        "    >>> no_zeros(12093)\n",
        "    1293 \n",
        "    \"\"\"\n",
        "    if n==0:\n",
        "        return 0\n",
        "    last, rest = n % 10, n // 10\n",
        "    if last == 0:\n",
        "        return no_zeros(rest)\n",
        "    if last != 0:\n",
        "        return 10 * no_zeros(rest) + last"
      ]
    },
    {
      "cell_type": "markdown",
      "source": [
        "Q1 Tests:"
      ],
      "metadata": {
        "id": "u0r660fZiFqv"
      }
    },
    {
      "cell_type": "code",
      "source": [
        "t = no_zeros(0)\n",
        "assert t == 0, f'Expected 0, but got {t}.'\n",
        "\n",
        "t = no_zeros(10)\n",
        "assert t == 1, f'Expected 1, but got {t}.'\n",
        "\n",
        "t = no_zeros(123)\n",
        "assert t == 123, f'Expected 123, but got {t}.'\n",
        "\n",
        "t = no_zeros(10000001)\n",
        "assert t == 11, f'Expected 10000001, but got {t}.'\n",
        "\n",
        "t = no_zeros(2002340)\n",
        "assert t == 2234, f'Expected 2234, but got {t}.'"
      ],
      "metadata": {
        "id": "e61PLG5oQ9nG"
      },
      "execution_count": null,
      "outputs": []
    },
    {
      "cell_type": "markdown",
      "source": [
        "# **Q2: Every Three**\n",
        "Write a function that removes every third digit from an integer when reading right to left."
      ],
      "metadata": {
        "id": "U1zbk5IAi6lG"
      }
    },
    {
      "cell_type": "code",
      "source": [
        "def remove_every_third(n):\n",
        "    \"\"\" If n is a valid positive integer, remove_every_third(n) returns n with every third digit removed.\n",
        "    >>> remove_every_third(100)\n",
        "    0 \n",
        "    >>> no_zeros(12093)\n",
        "    293 \n",
        "    \"\"\"\n",
        "    def helper(n, i):\n",
        "        if n == 0:\n",
        "            return n\n",
        "        last, rest = n % 10, n // 10\n",
        "        if i == 0:\n",
        "            return helper(rest, 2)\n",
        "        if i != 0:\n",
        "            return 10 * helper(rest, i - 1) + last\n",
        "        \n",
        "    return helper(n, 2)"
      ],
      "metadata": {
        "id": "rDFzewtPjASg"
      },
      "execution_count": null,
      "outputs": []
    },
    {
      "cell_type": "markdown",
      "source": [
        "Q2 Tests:"
      ],
      "metadata": {
        "id": "PJl50lZNmlDQ"
      }
    },
    {
      "cell_type": "code",
      "source": [
        "t = remove_every_third(100100100100)\n",
        "assert t == 0, f'Expected 0, but got{t}.'\n",
        "\n",
        "t = remove_every_third(120100100100)\n",
        "assert t == 20000000, f'Expected 20000000, but got{t}.'\n",
        "\n",
        "t = remove_every_third(123342)\n",
        "assert t == 2342, f'Expected 2342, but got{t}.'\n",
        "\n",
        "t = remove_every_third(10)\n",
        "assert t == 10, f'Expected 10, but got{t}.'\n",
        "\n",
        "t = remove_every_third(0)\n",
        "assert t == 0, f'Expected 0, but got{t}.'"
      ],
      "metadata": {
        "id": "XPT17NEDmjNB"
      },
      "execution_count": null,
      "outputs": []
    },
    {
      "cell_type": "markdown",
      "source": [
        "# **Q3: Every N**\n",
        "Write a function that returns a function that can remove every nth digit from a number when reading right to left."
      ],
      "metadata": {
        "id": "zu0o2g3WjDWe"
      }
    },
    {
      "cell_type": "code",
      "source": [
        "def remove_every_i(i):\n",
        "    \"\"\" If n is a valid positive integer, remove_every_i(n, i) returns n with every ith digit removed.\n",
        "    >>> every_ith_remover = remove_every_i(2)\n",
        "    >>> every_ith_remover\n",
        "    <Function>\n",
        "    >>> every_ith_remover(120343)\n",
        "    233\n",
        "    \"\"\"\n",
        "    def f(n):\n",
        "        def helper(n, i, j):\n",
        "            if n == 0:\n",
        "                return n\n",
        "            last, rest = n % 10, n // 10\n",
        "            if j == 0:\n",
        "                return helper(rest, i, i)\n",
        "            if i != 0:\n",
        "                return 10 * helper(rest, i, j - 1) + last\n",
        "        return helper(n, i - 1, i - 1)\n",
        "    return f"
      ],
      "metadata": {
        "id": "l4NipSpynyfo"
      },
      "execution_count": null,
      "outputs": []
    },
    {
      "cell_type": "markdown",
      "source": [
        "Q3 Tests:"
      ],
      "metadata": {
        "id": "X7CAfeXHu7Pe"
      }
    },
    {
      "cell_type": "code",
      "source": [
        "every_second_remover = remove_every_i(2)\n",
        "t = every_second_remover(120343)\n",
        "assert t == 233, \"Expected 233, but got {t}.\"\n",
        "\n",
        "every_fifth_remover = remove_every_i(5)\n",
        "t = every_fifth_remover(123)\n",
        "assert t == 123, \"Expected 123, but got {t}.\"\n",
        "\n",
        "t = every_fifth_remover(12334012309439)\n",
        "assert t == 123301239439, \"Expected 123301239439, but got {t}.\""
      ],
      "metadata": {
        "id": "KP-VGtV0pBJf"
      },
      "execution_count": null,
      "outputs": []
    },
    {
      "cell_type": "markdown",
      "source": [
        "# **2/17: Recursion & Tree Recursion**"
      ],
      "metadata": {
        "id": "i5gWrQkBjhEN"
      }
    },
    {
      "cell_type": "code",
      "source": [
        "def rotating(s):\n",
        "  if s[0]:\n",
        "    return 1 + rotating()\n",
        "  else:\n",
        "    return rotating(s.append(s.pop(0)))"
      ],
      "metadata": {
        "id": "eAULASeajq-b"
      },
      "execution_count": null,
      "outputs": []
    },
    {
      "cell_type": "code",
      "source": [
        "def five_steps(m, n):\n",
        "    def helper(x, y):\n",
        "        s = []\n",
        "        if x < 0 or y < 0 or x > m or y > n:\n",
        "            return [[]]\n",
        "        elif x + y == 5:\n",
        "            s += [x, y]\n",
        "        first = helper(x + 1, y)\n",
        "        second = helper(x, y + 1)\n",
        "        return first + second\n",
        "    return helper(0, 0)"
      ],
      "metadata": {
        "id": "HEXx-q41kkCw"
      },
      "execution_count": null,
      "outputs": []
    },
    {
      "cell_type": "code",
      "source": [
        "a = five_steps(5, 5)\n",
        "print(a)\n"
      ],
      "metadata": {
        "colab": {
          "base_uri": "https://localhost:8080/"
        },
        "id": "1ZqKO5tVnjGb",
        "outputId": "debf5de0-052b-4433-a38e-b3cf0c0ba796"
      },
      "execution_count": null,
      "outputs": [
        {
          "output_type": "stream",
          "name": "stdout",
          "text": [
            "[[], [], [], [], [], [], [], [], [], [], [], [], [], [], [], [], [], [], [], [], [], [], [], [], [], [], [], [], [], [], [], [], [], [], [], [], [], [], [], [], [], [], [], [], [], [], [], [], [], [], [], [], [], [], [], [], [], [], [], [], [], [], [], [], [], [], [], [], [], [], [], [], [], [], [], [], [], [], [], [], [], [], [], [], [], [], [], [], [], [], [], [], [], [], [], [], [], [], [], [], [], [], [], [], [], [], [], [], [], [], [], [], [], [], [], [], [], [], [], [], [], [], [], [], [], [], [], [], [], [], [], [], [], [], [], [], [], [], [], [], [], [], [], [], [], [], [], [], [], [], [], [], [], [], [], [], [], [], [], [], [], [], [], [], [], [], [], [], [], [], [], [], [], [], [], [], [], [], [], [], [], [], [], [], [], [], [], [], [], [], [], [], [], [], [], [], [], [], [], [], [], [], [], [], [], [], [], [], [], [], [], [], [], [], [], [], [], [], [], [], [], [], [], [], [], [], [], [], [], [], [], [], [], [], [], [], [], [], [], [], [], [], [], [], [], [], [], [], [], [], [], [], [], [], [], [], [], [], [], [], [], [], [], [], [], [], [], [], [], [], [], [], [], [], [], [], [], [], [], [], [], [], [], [], [], [], [], [], [], [], [], [], [], [], [], [], [], [], [], [], [], [], [], [], [], [], [], [], [], [], [], [], [], [], [], [], [], [], [], [], [], [], [], [], [], [], [], [], [], [], [], [], [], [], [], [], [], [], [], [], [], [], [], [], [], [], [], [], [], [], [], [], [], [], [], [], [], [], [], [], [], [], [], [], [], [], [], [], [], [], [], [], [], [], [], [], [], [], [], [], [], [], [], [], [], [], [], [], [], [], [], [], [], [], [], [], [], [], [], [], [], [], [], [], [], [], [], [], [], [], [], [], [], [], [], [], [], [], [], [], [], [], [], [], [], [], [], [], [], [], [], [], [], [], [], [], [], [], [], [], [], [], [], [], [], [], [], [], [], [], [], [], [], [], [], [], [], [], [], [], [], [], [], [], [], [], [], [], [], [], [], [], [], [], [], [], [], [], [], [], [], [], [], [], [], [], [], [], [], [], [], [], [], [], [], [], [], [], [], [], [], [], [], [], [], [], [], [], [], [], [], [], [], [], [], [], [], [], [], [], [], [], [], [], [], [], [], [], [], [], [], [], [], [], [], [], [], [], [], [], [], [], [], [], [], [], [], [], [], [], [], [], [], [], [], [], [], [], [], [], [], [], [], [], [], [], [], [], [], [], [], [], [], [], [], [], [], [], [], [], [], [], [], [], [], [], [], [], [], [], [], [], [], [], [], [], [], [], [], [], [], [], [], [], [], [], [], [], [], [], [], [], [], [], [], [], [], [], [], [], [], [], [], [], [], [], [], [], [], [], [], [], [], [], [], [], [], [], [], [], [], [], [], [], [], [], [], [], [], [], [], [], [], [], [], [], [], [], [], [], [], [], [], [], [], [], [], [], [], [], [], [], [], [], [], [], [], [], [], [], [], [], [], [], [], [], [], [], [], [], [], [], [], [], [], [], [], [], [], [], [], [], [], [], [], [], [], [], [], [], [], [], [], [], [], [], [], [], [], [], [], [], [], [], [], [], [], [], [], [], [], [], [], [], [], [], [], [], [], [], [], [], [], [], [], [], [], [], [], [], [], [], [], [], [], [], [], [], [], [], [], [], [], [], [], [], [], [], [], [], [], [], [], [], [], [], [], [], [], [], [], [], [], [], [], [], [], [], [], [], [], [], [], [], [], [], [], [], [], [], [], [], [], [], [], [], [], [], [], [], [], [], [], [], [], [], [], [], [], [], [], [], [], [], [], [], [], [], [], [], [], [], [], [], [], [], [], [], [], [], [], [], [], [], [], [], [], [], [], [], [], [], [], [], [], [], [], [], [], [], [], [], [], [], [], [], [], [], [], [], [], [], [], [], [], [], [], [], [], [], [], [], [], [], [], [], [], [], [], [], [], [], [], [], [], [], [], [], [], [], [], [], [], [], [], [], [], [], [], [], [], [], [], [], [], [], [], [], [], [], [], [], [], []]\n"
          ]
        }
      ]
    },
    {
      "cell_type": "code",
      "source": [
        "def spiral(s): # 4 x 4\n",
        "  \"\"\"\n",
        "  >>> s = [[1, 3, 4, 5],\n",
        "          [13, 14, 15, 6],\n",
        "          [12, 17, 16, 7],\n",
        "          [11, 10, 9, 8]]\n",
        "  >>> spiral(s)\n",
        "  [1, 2, 3, 4, 5, 6, 7, 8, 9, 10, 11, 12, 13, 14, 15, 16, 17]\n",
        "  \"\"\"\n",
        "  \"\"\"\n",
        "  if reach x = len(s), fix len(s), iterate till we reach lens[fix]\n",
        "  \"\"\"\n",
        "    def f(s, x, y):\n",
        "\n",
        "      i = [s[x][y]]\n",
        "\n",
        "      if x < len(s) - 1:\n",
        "        return i + f(s, x + 1, y)\n",
        "      if x == len(s) - 1 and y == 0:\n",
        "        return i + f(s, x, 0)\n",
        "\n",
        "      if y < len(s[x]) - 1:\n",
        "        return i + f(s, x, y + 1)\n",
        "      if y == len(s[0]) - 1:\n",
        "        return i + f(s[:][1:], x, y)\n",
        "      \n",
        "      if x > 0:\n",
        "        return i + f(s, x - 1, y)\n",
        "      if x == 0:\n",
        "        return i + f(s[1:][:], x, y)\n",
        "        \n",
        "      if y > 0:\n",
        "        return i + f(s, x, y - 1)\n",
        "      if y == 0:\n",
        "        return i + f(s[:][], x, y)\n",
        "        \n",
        "\n",
        "    return f(s, 0, 0)  \n"
      ],
      "metadata": {
        "id": "DUaJpULhYItw"
      },
      "execution_count": null,
      "outputs": []
    },
    {
      "cell_type": "code",
      "source": [
        "# Sierpinski's carpet"
      ],
      "metadata": {
        "id": "e7X_FK3dUAZB"
      },
      "execution_count": null,
      "outputs": []
    },
    {
      "cell_type": "code",
      "source": [
        "def identity(n):\n",
        "  \"\"\"Replicate the behavior of numpy.identity with one line.\n",
        "  https://numpy.org/devdocs/reference/generated/numpy.identity.html\n",
        "  >>> identity(5)\n",
        "  [[1, 0, 0, 0, 0], [0, 1, 0, 0, 0], [0, 0, 1, 0, 0], [0, 0, 0, 1, 0], [0, 0, 0, 0, 1]]\n",
        "  \"\"\"\n",
        "  return [[1 if i == j else 0 for i in range(1, n + 1)] for j in range (1, n + 1)]\n",
        "\n",
        "print(eye(4))"
      ],
      "metadata": {
        "colab": {
          "base_uri": "https://localhost:8080/"
        },
        "id": "gbGCwP45ZwxD",
        "outputId": "c2eba333-f5b2-4879-ad15-1c9c0a10faf3"
      },
      "execution_count": null,
      "outputs": [
        {
          "output_type": "stream",
          "name": "stdout",
          "text": [
            "[[1]]\n",
            "[[1, 0, 0, 0], [0, 1, 0, 0], [0, 0, 1, 0], [0, 0, 0, 1]]\n"
          ]
        }
      ]
    },
    {
      "cell_type": "code",
      "source": [
        "s = [1, 2, 3, 4]\n",
        "print(s)\n",
        "\n",
        "def forever(s):\n",
        "  s.append(s.pop(0))\n",
        "  return s\n",
        "s = forever(s)\n",
        "print(s)\n",
        "s = forever(s)\n",
        "print(s)\n",
        "s = forever(s)\n",
        "print(s)\n",
        "s = forever(s)\n",
        "print(s)\n",
        "s = forever(s)\n",
        "print(s)\n",
        "s = forever(s)\n",
        "print(s)\n",
        "s = forever(s)\n",
        "print(s)\n",
        "s = forever(s)\n",
        "print(s)\n",
        "s = forever(s)\n",
        "print(s)\n",
        "s = forever(s)\n",
        "print(s)"
      ],
      "metadata": {
        "colab": {
          "base_uri": "https://localhost:8080/"
        },
        "id": "9yVaM2ewer5l",
        "outputId": "96c95cb0-1154-4286-ad17-98f8b7e6363a"
      },
      "execution_count": null,
      "outputs": [
        {
          "output_type": "stream",
          "name": "stdout",
          "text": [
            "[1, 2, 3, 4]\n",
            "[2, 3, 4, 1]\n",
            "[3, 4, 1, 2]\n",
            "[4, 1, 2, 3]\n",
            "[1, 2, 3, 4]\n",
            "[2, 3, 4, 1]\n",
            "[3, 4, 1, 2]\n",
            "[4, 1, 2, 3]\n",
            "[1, 2, 3, 4]\n",
            "[2, 3, 4, 1]\n",
            "[3, 4, 1, 2]\n"
          ]
        }
      ]
    },
    {
      "cell_type": "code",
      "source": [
        "def all_subsequences(s):\n",
        "  if not s:\n",
        "    return []\n",
        "  wit = [[s[0]] + all_subsequences(s[1:])]\n",
        "  without = all_subsequences(s[1:])\n",
        "  \n",
        "  return wit + without"
      ],
      "metadata": {
        "id": "qkM6PEd8Udlk"
      },
      "execution_count": null,
      "outputs": []
    },
    {
      "cell_type": "code",
      "source": [
        "s = [1, 2, 3, 4, 5]\n",
        "a = all_subsequences(s)\n",
        "print(a)"
      ],
      "metadata": {
        "colab": {
          "base_uri": "https://localhost:8080/",
          "height": 201
        },
        "id": "Vh5JBBp7Vhdk",
        "outputId": "670a1709-812c-41ad-af04-4e378bba0006"
      },
      "execution_count": null,
      "outputs": [
        {
          "output_type": "error",
          "ename": "NameError",
          "evalue": "ignored",
          "traceback": [
            "\u001b[0;31m---------------------------------------------------------------------------\u001b[0m",
            "\u001b[0;31mNameError\u001b[0m                                 Traceback (most recent call last)",
            "\u001b[0;32m<ipython-input-24-cb11ada96f69>\u001b[0m in \u001b[0;36m<module>\u001b[0;34m\u001b[0m\n\u001b[1;32m      1\u001b[0m \u001b[0ms\u001b[0m \u001b[0;34m=\u001b[0m \u001b[0;34m[\u001b[0m\u001b[0;36m1\u001b[0m\u001b[0;34m,\u001b[0m \u001b[0;36m2\u001b[0m\u001b[0;34m,\u001b[0m \u001b[0;36m3\u001b[0m\u001b[0;34m,\u001b[0m \u001b[0;36m4\u001b[0m\u001b[0;34m,\u001b[0m \u001b[0;36m5\u001b[0m\u001b[0;34m]\u001b[0m\u001b[0;34m\u001b[0m\u001b[0;34m\u001b[0m\u001b[0m\n\u001b[0;32m----> 2\u001b[0;31m \u001b[0ma\u001b[0m \u001b[0;34m=\u001b[0m \u001b[0mall_subsequences\u001b[0m\u001b[0;34m(\u001b[0m\u001b[0ms\u001b[0m\u001b[0;34m)\u001b[0m\u001b[0;34m\u001b[0m\u001b[0;34m\u001b[0m\u001b[0m\n\u001b[0m\u001b[1;32m      3\u001b[0m \u001b[0mprint\u001b[0m\u001b[0;34m(\u001b[0m\u001b[0ma\u001b[0m\u001b[0;34m)\u001b[0m\u001b[0;34m\u001b[0m\u001b[0;34m\u001b[0m\u001b[0m\n",
            "\u001b[0;31mNameError\u001b[0m: name 'all_subsequences' is not defined"
          ]
        }
      ]
    },
    {
      "cell_type": "code",
      "source": [
        "# Write a list comprehension\n",
        "\n",
        "total = 0\n",
        "\n",
        "def func(x, y):\n",
        "    return [x, y]\n",
        "\n",
        "for el in [func(i, i) for i in range(3)]:\n",
        "    a = sum(el)\n",
        "    total += sum(el)\n",
        "\n",
        "print(total)"
      ],
      "metadata": {
        "colab": {
          "base_uri": "https://localhost:8080/"
        },
        "id": "B926mkwv6Oa5",
        "outputId": "3d82abcc-e61e-43fe-e70e-e82917657913"
      },
      "execution_count": null,
      "outputs": [
        {
          "output_type": "stream",
          "name": "stdout",
          "text": [
            "6\n"
          ]
        }
      ]
    },
    {
      "cell_type": "code",
      "source": [
        "s = [1, 2, 3, 4]\n",
        "t = list(s)\n",
        "t_1 = [2, 3, 4, 1]\n",
        "t_2 = [3, 4, 1, 2]\n",
        "t_3 = [4, 1, 2, 3]\n",
        "t_4 = [1, 2, 3, 4]\n",
        "#s = len([s.pop() for ])\n",
        "a = [s[i:] + s[:i] for i in range(0, len(s))]\n",
        "c = [[i for i in range(0, 4)] + [i for i in range(0, 3)][::-1] for _ in range(2)]\n",
        "t = [t[i % len(t):] for i in range(0, 100)]\n",
        "#ss = [s.append(s.pop(0)) for _ in range(4)]\n",
        "\n",
        "print(c)\n",
        "print(t)\n",
        "print(a)\n"
      ],
      "metadata": {
        "colab": {
          "base_uri": "https://localhost:8080/"
        },
        "id": "iq0x4B2bcVr0",
        "outputId": "527eabba-56f1-48d1-92ff-98c65c1ef80a"
      },
      "execution_count": null,
      "outputs": [
        {
          "output_type": "stream",
          "name": "stdout",
          "text": [
            "[[0, 1, 2, 3, 2, 1, 0], [0, 1, 2, 3, 2, 1, 0]]\n",
            "[[1, 2, 3, 4], [2, 3, 4], [3, 4], [4], [1, 2, 3, 4], [2, 3, 4], [3, 4], [4], [1, 2, 3, 4], [2, 3, 4], [3, 4], [4], [1, 2, 3, 4], [2, 3, 4], [3, 4], [4], [1, 2, 3, 4], [2, 3, 4], [3, 4], [4], [1, 2, 3, 4], [2, 3, 4], [3, 4], [4], [1, 2, 3, 4], [2, 3, 4], [3, 4], [4], [1, 2, 3, 4], [2, 3, 4], [3, 4], [4], [1, 2, 3, 4], [2, 3, 4], [3, 4], [4], [1, 2, 3, 4], [2, 3, 4], [3, 4], [4], [1, 2, 3, 4], [2, 3, 4], [3, 4], [4], [1, 2, 3, 4], [2, 3, 4], [3, 4], [4], [1, 2, 3, 4], [2, 3, 4], [3, 4], [4], [1, 2, 3, 4], [2, 3, 4], [3, 4], [4], [1, 2, 3, 4], [2, 3, 4], [3, 4], [4], [1, 2, 3, 4], [2, 3, 4], [3, 4], [4], [1, 2, 3, 4], [2, 3, 4], [3, 4], [4], [1, 2, 3, 4], [2, 3, 4], [3, 4], [4], [1, 2, 3, 4], [2, 3, 4], [3, 4], [4], [1, 2, 3, 4], [2, 3, 4], [3, 4], [4], [1, 2, 3, 4], [2, 3, 4], [3, 4], [4], [1, 2, 3, 4], [2, 3, 4], [3, 4], [4], [1, 2, 3, 4], [2, 3, 4], [3, 4], [4], [1, 2, 3, 4], [2, 3, 4], [3, 4], [4], [1, 2, 3, 4], [2, 3, 4], [3, 4], [4]]\n",
            "[[1, 2, 3, 4], [2, 3, 4, 1], [3, 4, 1, 2], [4, 1, 2, 3]]\n"
          ]
        }
      ]
    },
    {
      "cell_type": "code",
      "source": [
        "s = 'string'\n",
        "\n",
        "[list(range(0, i)) for i in range(3)]\n"
      ],
      "metadata": {
        "colab": {
          "base_uri": "https://localhost:8080/"
        },
        "id": "ac2DYEzmfijo",
        "outputId": "32c190a5-7d8e-4bb4-d703-cc5c382fb914"
      },
      "execution_count": null,
      "outputs": [
        {
          "output_type": "execute_result",
          "data": {
            "text/plain": [
              "[[], [0], [0, 1]]"
            ]
          },
          "metadata": {},
          "execution_count": 3
        }
      ]
    },
    {
      "cell_type": "code",
      "source": [
        "s = ['dog', 'door', 'road']\n",
        "def d(s):\n",
        "    dc = {}\n",
        "    for w in s:\n",
        "        for c in w:\n",
        "            if c not in dc:\n",
        "                dc[c] = [w]\n",
        "            else: # c in dc\n",
        "                if w not in dc[c]:\n",
        "                    dc[c].append(w)\n",
        "    return dc\n",
        "print(d(s))"
      ],
      "metadata": {
        "colab": {
          "base_uri": "https://localhost:8080/"
        },
        "id": "JMK8mPU7hHFK",
        "outputId": "33020225-c91b-4e9a-8360-83723cfb4eca"
      },
      "execution_count": null,
      "outputs": [
        {
          "output_type": "stream",
          "name": "stdout",
          "text": [
            "{'d': ['dog', 'door', 'road'], 'o': ['dog', 'door', 'road'], 'g': ['dog'], 'r': ['door', 'road'], 'a': ['road']}\n"
          ]
        }
      ]
    },
    {
      "cell_type": "code",
      "source": [
        "s = ['dog', 'deck', 'dolly']\n",
        "check = all(['d' in w for w in s])\n",
        "print(check)"
      ],
      "metadata": {
        "colab": {
          "base_uri": "https://localhost:8080/"
        },
        "id": "FrpMK8C4uSqc",
        "outputId": "1a9f9d2e-7fa8-48fc-d08b-3f5cae69f993"
      },
      "execution_count": null,
      "outputs": [
        {
          "output_type": "stream",
          "name": "stdout",
          "text": [
            "True\n"
          ]
        }
      ]
    },
    {
      "cell_type": "code",
      "source": [
        "word = 'mississippi'\n",
        "count_i = len([c for c in word if c == 'i'])\n",
        "print(count_i)"
      ],
      "metadata": {
        "colab": {
          "base_uri": "https://localhost:8080/"
        },
        "id": "Vhip-N8HWX80",
        "outputId": "18aac18f-1917-47a7-9272-d367ea20f3a7"
      },
      "execution_count": null,
      "outputs": [
        {
          "output_type": "stream",
          "name": "stdout",
          "text": [
            "4\n"
          ]
        }
      ]
    },
    {
      "cell_type": "code",
      "source": [
        "s = {0 : 'a', 1 : 'b', 2 : 'c'}\n",
        "\n",
        "a = [[{i:j}, i,j] for i,j in zip(list(s), list(s.values()))]\n",
        "print(a)"
      ],
      "metadata": {
        "colab": {
          "base_uri": "https://localhost:8080/"
        },
        "id": "FAaLbDrwwRX6",
        "outputId": "7c467c63-a478-4ff5-9011-b87e9270a39a"
      },
      "execution_count": null,
      "outputs": [
        {
          "output_type": "stream",
          "name": "stdout",
          "text": [
            "[[{0: 'a'}, 0, 'a'], [{1: 'b'}, 1, 'b'], [{2: 'c'}, 2, 'c']]\n"
          ]
        }
      ]
    },
    {
      "cell_type": "code",
      "source": [
        "def letter_count(word, letter):\n",
        "  \"\"\" \n",
        "  Return number of times letter appears in word.\n",
        "  >>> letter_count('mississppi', 's')\n",
        "  4\n",
        "  \"\"\"\n",
        "  return len([c for c in word if c == letter])"
      ],
      "metadata": {
        "id": "PYaW9BT3FkcV"
      },
      "execution_count": null,
      "outputs": []
    },
    {
      "cell_type": "code",
      "source": [
        "def tree(label, branches=[]):\n",
        "    \"\"\"Construct a tree with the given label value and a list of branches.\"\"\"\n",
        "    return [label] + list(branches)\n",
        "\n",
        "def label(tree):\n",
        "    \"\"\"Return the label value of a tree.\"\"\"\n",
        "    return tree[0]\n",
        "\n",
        "def branches(tree):\n",
        "    \"\"\"Return the list of branches of the given tree.\"\"\"\n",
        "    return tree[1:]\n",
        "\n",
        "def is_leaf(tree):\n",
        "    \"\"\"Returns True if the given tree's list of branches is empty, and False\n",
        "    otherwise.\n",
        "    \"\"\"\n",
        "    return not branches(tree)"
      ],
      "metadata": {
        "id": "uYAHGUtVGi4e"
      },
      "execution_count": null,
      "outputs": []
    },
    {
      "cell_type": "code",
      "source": [
        "def level1(t):\n",
        "  def helper(t, level):\n",
        "    res = [[label(t)]]\n",
        "    for b in branches(t):\n",
        "      if level <= len(res):\n",
        "        res.append([])\n",
        "      else:\n",
        "        res[level].append(label(b))\n",
        "      res += helper(b, level + 1)    \n",
        "    return res\n",
        "  return helper(t, 0)"
      ],
      "metadata": {
        "id": "sXFhekc6AjOx"
      },
      "execution_count": null,
      "outputs": []
    },
    {
      "cell_type": "code",
      "source": [
        "t = tree(1, [tree(3, [tree(5, [tree(6), tree(7)])]), tree(4, [tree(10), tree(11)]), tree(20)])\n",
        "s = level(t)\n",
        "s\n"
      ],
      "metadata": {
        "colab": {
          "base_uri": "https://localhost:8080/",
          "height": 346
        },
        "id": "u4Y6bzInmuq1",
        "outputId": "288093f9-b173-479a-ff65-ac1d1ff59e70"
      },
      "execution_count": null,
      "outputs": [
        {
          "output_type": "error",
          "ename": "IndexError",
          "evalue": "ignored",
          "traceback": [
            "\u001b[0;31m---------------------------------------------------------------------------\u001b[0m",
            "\u001b[0;31mIndexError\u001b[0m                                Traceback (most recent call last)",
            "\u001b[0;32m<ipython-input-7-7a942005963f>\u001b[0m in \u001b[0;36m<module>\u001b[0;34m\u001b[0m\n\u001b[1;32m      1\u001b[0m \u001b[0mt\u001b[0m \u001b[0;34m=\u001b[0m \u001b[0mtree\u001b[0m\u001b[0;34m(\u001b[0m\u001b[0;36m1\u001b[0m\u001b[0;34m,\u001b[0m \u001b[0;34m[\u001b[0m\u001b[0mtree\u001b[0m\u001b[0;34m(\u001b[0m\u001b[0;36m3\u001b[0m\u001b[0;34m,\u001b[0m \u001b[0;34m[\u001b[0m\u001b[0mtree\u001b[0m\u001b[0;34m(\u001b[0m\u001b[0;36m5\u001b[0m\u001b[0;34m,\u001b[0m \u001b[0;34m[\u001b[0m\u001b[0mtree\u001b[0m\u001b[0;34m(\u001b[0m\u001b[0;36m6\u001b[0m\u001b[0;34m)\u001b[0m\u001b[0;34m,\u001b[0m \u001b[0mtree\u001b[0m\u001b[0;34m(\u001b[0m\u001b[0;36m7\u001b[0m\u001b[0;34m)\u001b[0m\u001b[0;34m]\u001b[0m\u001b[0;34m)\u001b[0m\u001b[0;34m]\u001b[0m\u001b[0;34m)\u001b[0m\u001b[0;34m,\u001b[0m \u001b[0mtree\u001b[0m\u001b[0;34m(\u001b[0m\u001b[0;36m4\u001b[0m\u001b[0;34m,\u001b[0m \u001b[0;34m[\u001b[0m\u001b[0mtree\u001b[0m\u001b[0;34m(\u001b[0m\u001b[0;36m10\u001b[0m\u001b[0;34m)\u001b[0m\u001b[0;34m,\u001b[0m \u001b[0mtree\u001b[0m\u001b[0;34m(\u001b[0m\u001b[0;36m11\u001b[0m\u001b[0;34m)\u001b[0m\u001b[0;34m]\u001b[0m\u001b[0;34m)\u001b[0m\u001b[0;34m,\u001b[0m \u001b[0mtree\u001b[0m\u001b[0;34m(\u001b[0m\u001b[0;36m20\u001b[0m\u001b[0;34m)\u001b[0m\u001b[0;34m]\u001b[0m\u001b[0;34m)\u001b[0m\u001b[0;34m\u001b[0m\u001b[0;34m\u001b[0m\u001b[0m\n\u001b[0;32m----> 2\u001b[0;31m \u001b[0ms\u001b[0m \u001b[0;34m=\u001b[0m \u001b[0mlevel\u001b[0m\u001b[0;34m(\u001b[0m\u001b[0mt\u001b[0m\u001b[0;34m)\u001b[0m\u001b[0;34m\u001b[0m\u001b[0;34m\u001b[0m\u001b[0m\n\u001b[0m\u001b[1;32m      3\u001b[0m \u001b[0ms\u001b[0m\u001b[0;34m\u001b[0m\u001b[0;34m\u001b[0m\u001b[0m\n",
            "\u001b[0;32m<ipython-input-6-eb2e1a18a238>\u001b[0m in \u001b[0;36mlevel\u001b[0;34m(t)\u001b[0m\n\u001b[1;32m      9\u001b[0m       \u001b[0mres\u001b[0m \u001b[0;34m+=\u001b[0m \u001b[0mhelper\u001b[0m\u001b[0;34m(\u001b[0m\u001b[0mb\u001b[0m\u001b[0;34m,\u001b[0m \u001b[0mlevel\u001b[0m \u001b[0;34m+\u001b[0m \u001b[0;36m1\u001b[0m\u001b[0;34m)\u001b[0m\u001b[0;34m\u001b[0m\u001b[0;34m\u001b[0m\u001b[0m\n\u001b[1;32m     10\u001b[0m     \u001b[0;32mreturn\u001b[0m \u001b[0mres\u001b[0m\u001b[0;34m\u001b[0m\u001b[0;34m\u001b[0m\u001b[0m\n\u001b[0;32m---> 11\u001b[0;31m   \u001b[0;32mreturn\u001b[0m \u001b[0mhelper\u001b[0m\u001b[0;34m(\u001b[0m\u001b[0mt\u001b[0m\u001b[0;34m,\u001b[0m \u001b[0;36m0\u001b[0m\u001b[0;34m)\u001b[0m\u001b[0;34m\u001b[0m\u001b[0;34m\u001b[0m\u001b[0m\n\u001b[0m",
            "\u001b[0;32m<ipython-input-6-eb2e1a18a238>\u001b[0m in \u001b[0;36mhelper\u001b[0;34m(t, level)\u001b[0m\n\u001b[1;32m      7\u001b[0m       \u001b[0;32melse\u001b[0m\u001b[0;34m:\u001b[0m\u001b[0;34m\u001b[0m\u001b[0;34m\u001b[0m\u001b[0m\n\u001b[1;32m      8\u001b[0m         \u001b[0mres\u001b[0m\u001b[0;34m[\u001b[0m\u001b[0mlevel\u001b[0m\u001b[0;34m]\u001b[0m\u001b[0;34m.\u001b[0m\u001b[0mappend\u001b[0m\u001b[0;34m(\u001b[0m\u001b[0mlabel\u001b[0m\u001b[0;34m(\u001b[0m\u001b[0mb\u001b[0m\u001b[0;34m)\u001b[0m\u001b[0;34m)\u001b[0m\u001b[0;34m\u001b[0m\u001b[0;34m\u001b[0m\u001b[0m\n\u001b[0;32m----> 9\u001b[0;31m       \u001b[0mres\u001b[0m \u001b[0;34m+=\u001b[0m \u001b[0mhelper\u001b[0m\u001b[0;34m(\u001b[0m\u001b[0mb\u001b[0m\u001b[0;34m,\u001b[0m \u001b[0mlevel\u001b[0m \u001b[0;34m+\u001b[0m \u001b[0;36m1\u001b[0m\u001b[0;34m)\u001b[0m\u001b[0;34m\u001b[0m\u001b[0;34m\u001b[0m\u001b[0m\n\u001b[0m\u001b[1;32m     10\u001b[0m     \u001b[0;32mreturn\u001b[0m \u001b[0mres\u001b[0m\u001b[0;34m\u001b[0m\u001b[0;34m\u001b[0m\u001b[0m\n\u001b[1;32m     11\u001b[0m   \u001b[0;32mreturn\u001b[0m \u001b[0mhelper\u001b[0m\u001b[0;34m(\u001b[0m\u001b[0mt\u001b[0m\u001b[0;34m,\u001b[0m \u001b[0;36m0\u001b[0m\u001b[0;34m)\u001b[0m\u001b[0;34m\u001b[0m\u001b[0;34m\u001b[0m\u001b[0m\n",
            "\u001b[0;32m<ipython-input-6-eb2e1a18a238>\u001b[0m in \u001b[0;36mhelper\u001b[0;34m(t, level)\u001b[0m\n\u001b[1;32m      7\u001b[0m       \u001b[0;32melse\u001b[0m\u001b[0;34m:\u001b[0m\u001b[0;34m\u001b[0m\u001b[0;34m\u001b[0m\u001b[0m\n\u001b[1;32m      8\u001b[0m         \u001b[0mres\u001b[0m\u001b[0;34m[\u001b[0m\u001b[0mlevel\u001b[0m\u001b[0;34m]\u001b[0m\u001b[0;34m.\u001b[0m\u001b[0mappend\u001b[0m\u001b[0;34m(\u001b[0m\u001b[0mlabel\u001b[0m\u001b[0;34m(\u001b[0m\u001b[0mb\u001b[0m\u001b[0;34m)\u001b[0m\u001b[0;34m)\u001b[0m\u001b[0;34m\u001b[0m\u001b[0;34m\u001b[0m\u001b[0m\n\u001b[0;32m----> 9\u001b[0;31m       \u001b[0mres\u001b[0m \u001b[0;34m+=\u001b[0m \u001b[0mhelper\u001b[0m\u001b[0;34m(\u001b[0m\u001b[0mb\u001b[0m\u001b[0;34m,\u001b[0m \u001b[0mlevel\u001b[0m \u001b[0;34m+\u001b[0m \u001b[0;36m1\u001b[0m\u001b[0;34m)\u001b[0m\u001b[0;34m\u001b[0m\u001b[0;34m\u001b[0m\u001b[0m\n\u001b[0m\u001b[1;32m     10\u001b[0m     \u001b[0;32mreturn\u001b[0m \u001b[0mres\u001b[0m\u001b[0;34m\u001b[0m\u001b[0;34m\u001b[0m\u001b[0m\n\u001b[1;32m     11\u001b[0m   \u001b[0;32mreturn\u001b[0m \u001b[0mhelper\u001b[0m\u001b[0;34m(\u001b[0m\u001b[0mt\u001b[0m\u001b[0;34m,\u001b[0m \u001b[0;36m0\u001b[0m\u001b[0;34m)\u001b[0m\u001b[0;34m\u001b[0m\u001b[0;34m\u001b[0m\u001b[0m\n",
            "\u001b[0;32m<ipython-input-6-eb2e1a18a238>\u001b[0m in \u001b[0;36mhelper\u001b[0;34m(t, level)\u001b[0m\n\u001b[1;32m      6\u001b[0m         \u001b[0mres\u001b[0m\u001b[0;34m.\u001b[0m\u001b[0mappend\u001b[0m\u001b[0;34m(\u001b[0m\u001b[0;34m[\u001b[0m\u001b[0;34m]\u001b[0m\u001b[0;34m)\u001b[0m\u001b[0;34m\u001b[0m\u001b[0;34m\u001b[0m\u001b[0m\n\u001b[1;32m      7\u001b[0m       \u001b[0;32melse\u001b[0m\u001b[0;34m:\u001b[0m\u001b[0;34m\u001b[0m\u001b[0;34m\u001b[0m\u001b[0m\n\u001b[0;32m----> 8\u001b[0;31m         \u001b[0mres\u001b[0m\u001b[0;34m[\u001b[0m\u001b[0mlevel\u001b[0m\u001b[0;34m]\u001b[0m\u001b[0;34m.\u001b[0m\u001b[0mappend\u001b[0m\u001b[0;34m(\u001b[0m\u001b[0mlabel\u001b[0m\u001b[0;34m(\u001b[0m\u001b[0mb\u001b[0m\u001b[0;34m)\u001b[0m\u001b[0;34m)\u001b[0m\u001b[0;34m\u001b[0m\u001b[0;34m\u001b[0m\u001b[0m\n\u001b[0m\u001b[1;32m      9\u001b[0m       \u001b[0mres\u001b[0m \u001b[0;34m+=\u001b[0m \u001b[0mhelper\u001b[0m\u001b[0;34m(\u001b[0m\u001b[0mb\u001b[0m\u001b[0;34m,\u001b[0m \u001b[0mlevel\u001b[0m \u001b[0;34m+\u001b[0m \u001b[0;36m1\u001b[0m\u001b[0;34m)\u001b[0m\u001b[0;34m\u001b[0m\u001b[0;34m\u001b[0m\u001b[0m\n\u001b[1;32m     10\u001b[0m     \u001b[0;32mreturn\u001b[0m \u001b[0mres\u001b[0m\u001b[0;34m\u001b[0m\u001b[0;34m\u001b[0m\u001b[0m\n",
            "\u001b[0;31mIndexError\u001b[0m: list index out of range"
          ]
        }
      ]
    },
    {
      "cell_type": "code",
      "source": [
        "def sp(s):\n",
        "  l = len(s) // 3\n",
        "  \n",
        "\n",
        "\n",
        "s = [[1, 1, 1, 1, 1, 1, 1, 1, 1],\n",
        "    [1, 0, 1, 1, 0, 1, 1, 0, 1],\n",
        "    [1, 1, 1, 1, 1, 1, 1, 1, 1],\n",
        "    [1, 1, 1, 0, 0, 0, 1, 1, 1],\n",
        "    [1, 0, 1, 0, 0, 0, 1, 0, 1],\n",
        "    [1, 1, 1, 0, 0, 0, 1, 1, 1],\n",
        "    [1, 1, 1, 1, 1, 1, 1, 1, 1],\n",
        "    [1, 0, 1, 1, 0, 1, 1, 0, 1],\n",
        "    [1, 1, 1, 1, 1, 1, 1, 1, 1]]"
      ],
      "metadata": {
        "id": "hEJvwzVy7jRx"
      },
      "execution_count": null,
      "outputs": []
    },
    {
      "cell_type": "code",
      "source": [
        "def spreada(s, x, y):\n",
        "  def spread(s, x, y, seen):\n",
        "    if x < 0 or x > len(s) - 1 or y < 0 or y > len(s[0]) - 1:\n",
        "      return 0\n",
        "\n",
        "    if s[x][y] and [x, y] not in seen:\n",
        "      seen.append([x, y])\n",
        "      return 1 + spread(s, x + 1, y, seen) + spread(s, x - 1, y, seen) + spread(s, x, y + 1, seen) + spread(s, x, y - 1, seen)\n",
        "    else:\n",
        "      return 0\n",
        "  s[x][y] = 1\n",
        "  return spread(s, x, y, [])\n"
      ],
      "metadata": {
        "id": "zAbMKreIu6cV"
      },
      "execution_count": null,
      "outputs": []
    },
    {
      "cell_type": "code",
      "source": [
        "s = [[1, 0, 0, 0, 1],\n",
        "    [1, 0, 1, 1, 0],\n",
        "    [0, 0, 1, 0, 1],\n",
        "    [1, 1, 1, 0, 0],\n",
        "    [0, 0, 1, 1, 1]]\n",
        "spreada(s, 0, 1)\n",
        "spreada(s, 1, 1)\n",
        "s\n"
      ],
      "metadata": {
        "colab": {
          "base_uri": "https://localhost:8080/"
        },
        "id": "B7ofVJ1VwItU",
        "outputId": "abe1991e-c902-47bb-d694-25c0c11a6fab"
      },
      "execution_count": null,
      "outputs": [
        {
          "output_type": "execute_result",
          "data": {
            "text/plain": [
              "[[1, 1, 0, 0, 1],\n",
              " [1, 1, 1, 1, 0],\n",
              " [0, 0, 1, 0, 1],\n",
              " [1, 1, 1, 0, 0],\n",
              " [0, 0, 1, 1, 1]]"
            ]
          },
          "metadata": {},
          "execution_count": 18
        }
      ]
    },
    {
      "cell_type": "code",
      "source": [
        "def boba(line, pos):\n",
        "  \"\"\"\n",
        "  You're at the end of the boba line, so you want to figure out how many\n",
        "  people are in front of you. However, you don't want to get out of line\n",
        "  and count yourself! You ask the person in front of you to ask the person\n",
        "  in front of them, and vice versa. However, sometimes the person is foreign\n",
        "  and does not speak EnglishRecursively return the number of people in \n",
        "  front of you without the use of len().\n",
        "  \"\"\"\n",
        "  if not line:\n",
        "    return 0\n",
        "  if type(line[-1]) is not str:\n",
        "    return boba(line[:-1])\n",
        "  else:\n",
        "    return 1 + boba(line[:-1])"
      ],
      "metadata": {
        "id": "0zWVj9AR3T10"
      },
      "execution_count": null,
      "outputs": []
    },
    {
      "cell_type": "code",
      "source": [
        "def boba(n)\n",
        "  \"\"\"\n",
        "  You are at the end of a boba line of length n.\n",
        "  You can either progress through the line like a normal person,\n",
        "  or be a menace and try to cut by cutting the two people in front of you.\n",
        "  People at even indexes are chill and let you cut, but people at odd indexes\n",
        "  send you to the end of the line. Return the number of possibilities to get to the boba,\n",
        "  which is represented by an index <= 0 by either\n",
        "  \"\"\"\n",
        "  def helper(i, cut):\n",
        "    if i >= n:\n",
        "      return 1\n",
        "    if not cut:\n",
        "      return helper(n - 1, False) + helper(n - 2, True)\n",
        "    if n % 2 == 0:\n",
        "      return helper(n - 1, False) + helper(n, True)\n",
        "    else:\n",
        "      return helper(0, )\n",
        "  return helper(0, False)"
      ],
      "metadata": {
        "id": "FcDhILoaib4D"
      },
      "execution_count": null,
      "outputs": []
    },
    {
      "cell_type": "code",
      "source": [
        "def flood(t):\n",
        "    \"\"\"\n",
        "    Water floods in the direction from the root of a tree toward its leaves.\n",
        "    At the leaves are n-sized walls, composed of n '-'s concatenated together.\n",
        "    Every other node is water, represented by the string '{{{'.\n",
        "    When flood is called, water flows downstream, damaging the chunk of the wall and removing a '-'.\n",
        "    Once all '-' have been chipped away, the water pushes the fragment of the wall downstream infinitely.\n",
        "    The number of resulting fragments should equal the size of the wall n.\n",
        "    Write a function that takes a tree and returns the tree after one iteration\n",
        "    of water flow, with behavior as described above.\n",
        "    Instead of doctests, refer to the images in the below cell created using code.cs61a.org\n",
        "    \"\"\"\n",
        "    if is_leaf(t) and letter_count(label(t), '-') == 0:\n",
        "        n = len(label(t))\n",
        "        return tree(n * '{', [tree('-') for _ in range(n)])\n",
        "    if is_leaf(t):\n",
        "        n = len(label(t))\n",
        "        return tree('{' + label(t)[:-1], branches(t) + tree('-'))\n",
        "    else:\n",
        "        return tree(label(t), [flood(b) for b in branches(t)])"
      ],
      "metadata": {
        "id": "u_bHhx7YMZ_Y"
      },
      "execution_count": null,
      "outputs": []
    },
    {
      "cell_type": "code",
      "source": [
        "t = tree('{{{', [tree('{{{', [tree('---'), tree('--')]), tree('{{{', [tree('----'), tree('------')])])\n",
        "flood(t)"
      ],
      "metadata": {
        "colab": {
          "base_uri": "https://localhost:8080/",
          "height": 329
        },
        "id": "CMnqCU1AMb3P",
        "outputId": "3a144bb4-7256-4049-ec39-e347659781c9"
      },
      "execution_count": null,
      "outputs": [
        {
          "output_type": "error",
          "ename": "NameError",
          "evalue": "ignored",
          "traceback": [
            "\u001b[0;31m---------------------------------------------------------------------------\u001b[0m",
            "\u001b[0;31mNameError\u001b[0m                                 Traceback (most recent call last)",
            "\u001b[0;32m<ipython-input-4-715a3b351d31>\u001b[0m in \u001b[0;36m<module>\u001b[0;34m\u001b[0m\n\u001b[1;32m      1\u001b[0m \u001b[0mt\u001b[0m \u001b[0;34m=\u001b[0m \u001b[0mtree\u001b[0m\u001b[0;34m(\u001b[0m\u001b[0;34m'{{{'\u001b[0m\u001b[0;34m,\u001b[0m \u001b[0;34m[\u001b[0m\u001b[0mtree\u001b[0m\u001b[0;34m(\u001b[0m\u001b[0;34m'{{{'\u001b[0m\u001b[0;34m,\u001b[0m \u001b[0;34m[\u001b[0m\u001b[0mtree\u001b[0m\u001b[0;34m(\u001b[0m\u001b[0;34m'---'\u001b[0m\u001b[0;34m)\u001b[0m\u001b[0;34m,\u001b[0m \u001b[0mtree\u001b[0m\u001b[0;34m(\u001b[0m\u001b[0;34m'--'\u001b[0m\u001b[0;34m)\u001b[0m\u001b[0;34m]\u001b[0m\u001b[0;34m)\u001b[0m\u001b[0;34m,\u001b[0m \u001b[0mtree\u001b[0m\u001b[0;34m(\u001b[0m\u001b[0;34m'{{{'\u001b[0m\u001b[0;34m,\u001b[0m \u001b[0;34m[\u001b[0m\u001b[0mtree\u001b[0m\u001b[0;34m(\u001b[0m\u001b[0;34m'----'\u001b[0m\u001b[0;34m)\u001b[0m\u001b[0;34m,\u001b[0m \u001b[0mtree\u001b[0m\u001b[0;34m(\u001b[0m\u001b[0;34m'------'\u001b[0m\u001b[0;34m)\u001b[0m\u001b[0;34m]\u001b[0m\u001b[0;34m)\u001b[0m\u001b[0;34m]\u001b[0m\u001b[0;34m)\u001b[0m\u001b[0;34m\u001b[0m\u001b[0;34m\u001b[0m\u001b[0m\n\u001b[0;32m----> 2\u001b[0;31m \u001b[0mflood\u001b[0m\u001b[0;34m(\u001b[0m\u001b[0mt\u001b[0m\u001b[0;34m)\u001b[0m\u001b[0;34m\u001b[0m\u001b[0;34m\u001b[0m\u001b[0m\n\u001b[0m",
            "\u001b[0;32m<ipython-input-3-71ad52159a62>\u001b[0m in \u001b[0;36mflood\u001b[0;34m(t)\u001b[0m\n\u001b[1;32m     18\u001b[0m         \u001b[0;32mreturn\u001b[0m \u001b[0mtree\u001b[0m\u001b[0;34m(\u001b[0m\u001b[0;34m'{'\u001b[0m \u001b[0;34m+\u001b[0m \u001b[0mlabel\u001b[0m\u001b[0;34m(\u001b[0m\u001b[0mt\u001b[0m\u001b[0;34m)\u001b[0m\u001b[0;34m[\u001b[0m\u001b[0;34m:\u001b[0m\u001b[0;34m-\u001b[0m\u001b[0;36m1\u001b[0m\u001b[0;34m]\u001b[0m\u001b[0;34m,\u001b[0m \u001b[0mbranches\u001b[0m\u001b[0;34m(\u001b[0m\u001b[0mt\u001b[0m\u001b[0;34m)\u001b[0m \u001b[0;34m+\u001b[0m \u001b[0mtree\u001b[0m\u001b[0;34m(\u001b[0m\u001b[0;34m'-'\u001b[0m\u001b[0;34m)\u001b[0m\u001b[0;34m)\u001b[0m\u001b[0;34m\u001b[0m\u001b[0;34m\u001b[0m\u001b[0m\n\u001b[1;32m     19\u001b[0m     \u001b[0;32melse\u001b[0m\u001b[0;34m:\u001b[0m\u001b[0;34m\u001b[0m\u001b[0;34m\u001b[0m\u001b[0m\n\u001b[0;32m---> 20\u001b[0;31m         \u001b[0;32mreturn\u001b[0m \u001b[0mtree\u001b[0m\u001b[0;34m(\u001b[0m\u001b[0mlabel\u001b[0m\u001b[0;34m(\u001b[0m\u001b[0mt\u001b[0m\u001b[0;34m)\u001b[0m\u001b[0;34m,\u001b[0m \u001b[0;34m[\u001b[0m\u001b[0mflood\u001b[0m\u001b[0;34m(\u001b[0m\u001b[0mb\u001b[0m\u001b[0;34m)\u001b[0m \u001b[0;32mfor\u001b[0m \u001b[0mb\u001b[0m \u001b[0;32min\u001b[0m \u001b[0mbranches\u001b[0m\u001b[0;34m(\u001b[0m\u001b[0mt\u001b[0m\u001b[0;34m)\u001b[0m\u001b[0;34m]\u001b[0m\u001b[0;34m)\u001b[0m\u001b[0;34m\u001b[0m\u001b[0;34m\u001b[0m\u001b[0m\n\u001b[0m",
            "\u001b[0;32m<ipython-input-3-71ad52159a62>\u001b[0m in \u001b[0;36m<listcomp>\u001b[0;34m(.0)\u001b[0m\n\u001b[1;32m     18\u001b[0m         \u001b[0;32mreturn\u001b[0m \u001b[0mtree\u001b[0m\u001b[0;34m(\u001b[0m\u001b[0;34m'{'\u001b[0m \u001b[0;34m+\u001b[0m \u001b[0mlabel\u001b[0m\u001b[0;34m(\u001b[0m\u001b[0mt\u001b[0m\u001b[0;34m)\u001b[0m\u001b[0;34m[\u001b[0m\u001b[0;34m:\u001b[0m\u001b[0;34m-\u001b[0m\u001b[0;36m1\u001b[0m\u001b[0;34m]\u001b[0m\u001b[0;34m,\u001b[0m \u001b[0mbranches\u001b[0m\u001b[0;34m(\u001b[0m\u001b[0mt\u001b[0m\u001b[0;34m)\u001b[0m \u001b[0;34m+\u001b[0m \u001b[0mtree\u001b[0m\u001b[0;34m(\u001b[0m\u001b[0;34m'-'\u001b[0m\u001b[0;34m)\u001b[0m\u001b[0;34m)\u001b[0m\u001b[0;34m\u001b[0m\u001b[0;34m\u001b[0m\u001b[0m\n\u001b[1;32m     19\u001b[0m     \u001b[0;32melse\u001b[0m\u001b[0;34m:\u001b[0m\u001b[0;34m\u001b[0m\u001b[0;34m\u001b[0m\u001b[0m\n\u001b[0;32m---> 20\u001b[0;31m         \u001b[0;32mreturn\u001b[0m \u001b[0mtree\u001b[0m\u001b[0;34m(\u001b[0m\u001b[0mlabel\u001b[0m\u001b[0;34m(\u001b[0m\u001b[0mt\u001b[0m\u001b[0;34m)\u001b[0m\u001b[0;34m,\u001b[0m \u001b[0;34m[\u001b[0m\u001b[0mflood\u001b[0m\u001b[0;34m(\u001b[0m\u001b[0mb\u001b[0m\u001b[0;34m)\u001b[0m \u001b[0;32mfor\u001b[0m \u001b[0mb\u001b[0m \u001b[0;32min\u001b[0m \u001b[0mbranches\u001b[0m\u001b[0;34m(\u001b[0m\u001b[0mt\u001b[0m\u001b[0;34m)\u001b[0m\u001b[0;34m]\u001b[0m\u001b[0;34m)\u001b[0m\u001b[0;34m\u001b[0m\u001b[0;34m\u001b[0m\u001b[0m\n\u001b[0m",
            "\u001b[0;32m<ipython-input-3-71ad52159a62>\u001b[0m in \u001b[0;36mflood\u001b[0;34m(t)\u001b[0m\n\u001b[1;32m     18\u001b[0m         \u001b[0;32mreturn\u001b[0m \u001b[0mtree\u001b[0m\u001b[0;34m(\u001b[0m\u001b[0;34m'{'\u001b[0m \u001b[0;34m+\u001b[0m \u001b[0mlabel\u001b[0m\u001b[0;34m(\u001b[0m\u001b[0mt\u001b[0m\u001b[0;34m)\u001b[0m\u001b[0;34m[\u001b[0m\u001b[0;34m:\u001b[0m\u001b[0;34m-\u001b[0m\u001b[0;36m1\u001b[0m\u001b[0;34m]\u001b[0m\u001b[0;34m,\u001b[0m \u001b[0mbranches\u001b[0m\u001b[0;34m(\u001b[0m\u001b[0mt\u001b[0m\u001b[0;34m)\u001b[0m \u001b[0;34m+\u001b[0m \u001b[0mtree\u001b[0m\u001b[0;34m(\u001b[0m\u001b[0;34m'-'\u001b[0m\u001b[0;34m)\u001b[0m\u001b[0;34m)\u001b[0m\u001b[0;34m\u001b[0m\u001b[0;34m\u001b[0m\u001b[0m\n\u001b[1;32m     19\u001b[0m     \u001b[0;32melse\u001b[0m\u001b[0;34m:\u001b[0m\u001b[0;34m\u001b[0m\u001b[0;34m\u001b[0m\u001b[0m\n\u001b[0;32m---> 20\u001b[0;31m         \u001b[0;32mreturn\u001b[0m \u001b[0mtree\u001b[0m\u001b[0;34m(\u001b[0m\u001b[0mlabel\u001b[0m\u001b[0;34m(\u001b[0m\u001b[0mt\u001b[0m\u001b[0;34m)\u001b[0m\u001b[0;34m,\u001b[0m \u001b[0;34m[\u001b[0m\u001b[0mflood\u001b[0m\u001b[0;34m(\u001b[0m\u001b[0mb\u001b[0m\u001b[0;34m)\u001b[0m \u001b[0;32mfor\u001b[0m \u001b[0mb\u001b[0m \u001b[0;32min\u001b[0m \u001b[0mbranches\u001b[0m\u001b[0;34m(\u001b[0m\u001b[0mt\u001b[0m\u001b[0;34m)\u001b[0m\u001b[0;34m]\u001b[0m\u001b[0;34m)\u001b[0m\u001b[0;34m\u001b[0m\u001b[0;34m\u001b[0m\u001b[0m\n\u001b[0m",
            "\u001b[0;32m<ipython-input-3-71ad52159a62>\u001b[0m in \u001b[0;36m<listcomp>\u001b[0;34m(.0)\u001b[0m\n\u001b[1;32m     18\u001b[0m         \u001b[0;32mreturn\u001b[0m \u001b[0mtree\u001b[0m\u001b[0;34m(\u001b[0m\u001b[0;34m'{'\u001b[0m \u001b[0;34m+\u001b[0m \u001b[0mlabel\u001b[0m\u001b[0;34m(\u001b[0m\u001b[0mt\u001b[0m\u001b[0;34m)\u001b[0m\u001b[0;34m[\u001b[0m\u001b[0;34m:\u001b[0m\u001b[0;34m-\u001b[0m\u001b[0;36m1\u001b[0m\u001b[0;34m]\u001b[0m\u001b[0;34m,\u001b[0m \u001b[0mbranches\u001b[0m\u001b[0;34m(\u001b[0m\u001b[0mt\u001b[0m\u001b[0;34m)\u001b[0m \u001b[0;34m+\u001b[0m \u001b[0mtree\u001b[0m\u001b[0;34m(\u001b[0m\u001b[0;34m'-'\u001b[0m\u001b[0;34m)\u001b[0m\u001b[0;34m)\u001b[0m\u001b[0;34m\u001b[0m\u001b[0;34m\u001b[0m\u001b[0m\n\u001b[1;32m     19\u001b[0m     \u001b[0;32melse\u001b[0m\u001b[0;34m:\u001b[0m\u001b[0;34m\u001b[0m\u001b[0;34m\u001b[0m\u001b[0m\n\u001b[0;32m---> 20\u001b[0;31m         \u001b[0;32mreturn\u001b[0m \u001b[0mtree\u001b[0m\u001b[0;34m(\u001b[0m\u001b[0mlabel\u001b[0m\u001b[0;34m(\u001b[0m\u001b[0mt\u001b[0m\u001b[0;34m)\u001b[0m\u001b[0;34m,\u001b[0m \u001b[0;34m[\u001b[0m\u001b[0mflood\u001b[0m\u001b[0;34m(\u001b[0m\u001b[0mb\u001b[0m\u001b[0;34m)\u001b[0m \u001b[0;32mfor\u001b[0m \u001b[0mb\u001b[0m \u001b[0;32min\u001b[0m \u001b[0mbranches\u001b[0m\u001b[0;34m(\u001b[0m\u001b[0mt\u001b[0m\u001b[0;34m)\u001b[0m\u001b[0;34m]\u001b[0m\u001b[0;34m)\u001b[0m\u001b[0;34m\u001b[0m\u001b[0;34m\u001b[0m\u001b[0m\n\u001b[0m",
            "\u001b[0;32m<ipython-input-3-71ad52159a62>\u001b[0m in \u001b[0;36mflood\u001b[0;34m(t)\u001b[0m\n\u001b[1;32m     11\u001b[0m     \u001b[0mInstead\u001b[0m \u001b[0mof\u001b[0m \u001b[0mdoctests\u001b[0m\u001b[0;34m,\u001b[0m \u001b[0mrefer\u001b[0m \u001b[0mto\u001b[0m \u001b[0mthe\u001b[0m \u001b[0mimages\u001b[0m \u001b[0;32min\u001b[0m \u001b[0mthe\u001b[0m \u001b[0mbelow\u001b[0m \u001b[0mcell\u001b[0m \u001b[0mcreated\u001b[0m \u001b[0musing\u001b[0m \u001b[0mcode\u001b[0m\u001b[0;34m.\u001b[0m\u001b[0mcs61a\u001b[0m\u001b[0;34m.\u001b[0m\u001b[0morg\u001b[0m\u001b[0;34m\u001b[0m\u001b[0;34m\u001b[0m\u001b[0m\n\u001b[1;32m     12\u001b[0m     \"\"\"\n\u001b[0;32m---> 13\u001b[0;31m     \u001b[0;32mif\u001b[0m \u001b[0mis_leaf\u001b[0m\u001b[0;34m(\u001b[0m\u001b[0mt\u001b[0m\u001b[0;34m)\u001b[0m \u001b[0;32mand\u001b[0m \u001b[0mletter_count\u001b[0m\u001b[0;34m(\u001b[0m\u001b[0mlabel\u001b[0m\u001b[0;34m(\u001b[0m\u001b[0mt\u001b[0m\u001b[0;34m)\u001b[0m\u001b[0;34m,\u001b[0m \u001b[0;34m'-'\u001b[0m\u001b[0;34m)\u001b[0m \u001b[0;34m==\u001b[0m \u001b[0;36m0\u001b[0m\u001b[0;34m:\u001b[0m\u001b[0;34m\u001b[0m\u001b[0;34m\u001b[0m\u001b[0m\n\u001b[0m\u001b[1;32m     14\u001b[0m         \u001b[0mn\u001b[0m \u001b[0;34m=\u001b[0m \u001b[0mlen\u001b[0m\u001b[0;34m(\u001b[0m\u001b[0mlabel\u001b[0m\u001b[0;34m(\u001b[0m\u001b[0mt\u001b[0m\u001b[0;34m)\u001b[0m\u001b[0;34m)\u001b[0m\u001b[0;34m\u001b[0m\u001b[0;34m\u001b[0m\u001b[0m\n\u001b[1;32m     15\u001b[0m         \u001b[0;32mreturn\u001b[0m \u001b[0mtree\u001b[0m\u001b[0;34m(\u001b[0m\u001b[0mn\u001b[0m \u001b[0;34m*\u001b[0m \u001b[0;34m'{'\u001b[0m\u001b[0;34m,\u001b[0m \u001b[0;34m[\u001b[0m\u001b[0mtree\u001b[0m\u001b[0;34m(\u001b[0m\u001b[0;34m'-'\u001b[0m\u001b[0;34m)\u001b[0m \u001b[0;32mfor\u001b[0m \u001b[0m_\u001b[0m \u001b[0;32min\u001b[0m \u001b[0mrange\u001b[0m\u001b[0;34m(\u001b[0m\u001b[0mn\u001b[0m\u001b[0;34m)\u001b[0m\u001b[0;34m]\u001b[0m\u001b[0;34m)\u001b[0m\u001b[0;34m\u001b[0m\u001b[0;34m\u001b[0m\u001b[0m\n",
            "\u001b[0;31mNameError\u001b[0m: name 'letter_count' is not defined"
          ]
        }
      ]
    },
    {
      "cell_type": "markdown",
      "source": [
        "Selfish plant drinker"
      ],
      "metadata": {
        "id": "-zuCaVmRMzPm"
      }
    },
    {
      "cell_type": "code",
      "source": [
        "def snd(t, x):\n",
        "  for b in branches(t):\n",
        "    if label(b) == x:\n",
        "      return tree(label(t), snd(b, x))\n",
        "    else:\n",
        "      return tree(label(b), snd(b, x))\n"
      ],
      "metadata": {
        "id": "xiOcqIxPQccx"
      },
      "execution_count": null,
      "outputs": []
    },
    {
      "cell_type": "code",
      "source": [
        "def find_path(t):\n",
        "    \"\"\"\n",
        "    >>> t = tree(2, [tree(7, [tree(3), tree(6, [tree(5), tree(11)])] ), tree(15)])\n",
        "    >>> find_path(t, 5)\n",
        "    [2, 7, 6, 5]\n",
        "    >>> find_path(t, 10)  # returns None\n",
        "    \"\"\"\n",
        "    # solve by constructing all paths in minning\n",
        "    if is_leaf(t):\n",
        "        return [label(t)]\n",
        "    for b in branches(t)[1:]:\n",
        "        lt = branches(t)[0]\n",
        "        d = abs(label(t) - label(lt))\n",
        "        if abs(label(t) - label(b)) < d:\n",
        "          t = b\n",
        "          l_d = abs(label(t) - label(b))\n",
        "        path = find_path(lt)\n",
        "        if path:\n",
        "return [label(t)] + path\n",
        "\n",
        "\n",
        "    \"\"\"if label(t) == x:\n",
        "        return [label(t)]\n",
        "    for b in branches(t):\n",
        "        path = find_path(b, x)\n",
        "        if path:\n",
        "            return [label(t)] + path\"\"\""
      ],
      "metadata": {
        "id": "znahUn53GfYh"
      },
      "execution_count": null,
      "outputs": []
    },
    {
      "cell_type": "code",
      "source": [
        "t = tree(2, [tree(7, [tree(3), tree(6, [tree(5), tree(11)])] ), tree(15)])\n",
        "a = find_path(t)\n",
        "print(t)\n",
        "print(a)"
      ],
      "metadata": {
        "colab": {
          "base_uri": "https://localhost:8080/"
        },
        "id": "4eiIpd1L1yyE",
        "outputId": "d8da8959-3ba0-4527-82d2-ac2454f4b5e5"
      },
      "execution_count": null,
      "outputs": [
        {
          "output_type": "stream",
          "name": "stdout",
          "text": [
            "[2, [7, [3], [6, [5], [11]]], [15]]\n",
            "[2, 6, 3]\n"
          ]
        }
      ]
    },
    {
      "cell_type": "markdown",
      "source": [
        "t = tree(1, [tree(2, [tree(3), tree(4)]), tree(5, [tree(6), tree(7)])])\n",
        "a = snd(t, 2)"
      ],
      "metadata": {
        "id": "1lwLMJfHQjR6"
      }
    },
    {
      "cell_type": "markdown",
      "source": [
        "Balancer"
      ],
      "metadata": {
        "id": "uZaOPI5wN230"
      }
    },
    {
      "cell_type": "markdown",
      "source": [
        "Family ties"
      ],
      "metadata": {
        "id": "8wiIpT2RM1vy"
      }
    },
    {
      "cell_type": "code",
      "source": [
        "min of targeted searches"
      ],
      "metadata": {
        "id": "1my2T7QTfmh1"
      },
      "execution_count": null,
      "outputs": []
    },
    {
      "cell_type": "code",
      "source": [
        "def find_path(t):\n",
        "    \"\"\"\n",
        "    >>> t = tree(2, [tree(7, [tree(3), tree(6, [tree(5), tree(11)])] ), tree(15)])\n",
        "    >>> find_path(t, 5)\n",
        "    [2, 7, 6, 5]\n",
        "    >>> find_path(t, 10)  # returns None\n",
        "    \"\"\"\n",
        "    # solve by constructing all paths in minning\n",
        "    if is_leaf(t):\n",
        "        return [label(t)]\n",
        "    for b in branches(t):\n",
        "        path = find_path(b)\n",
        "        return [label(t)] + path\n",
        "\n",
        "\n",
        "    \"\"\"if label(t) == x:\n",
        "        return [label(t)]\n",
        "    for b in branches(t):\n",
        "        path = find_path(b, x)\n",
        "        if path:\n",
        "            return [label(t)] + path\"\"\""
      ],
      "metadata": {
        "id": "ulv9rFjLYi-7"
      },
      "execution_count": null,
      "outputs": []
    },
    {
      "cell_type": "code",
      "source": [
        "t = tree(2, [tree(7, [tree(3), tree(6, [tree(5), tree(11)])] ), tree(15)])\n",
        "find_path(t)\n"
      ],
      "metadata": {
        "colab": {
          "base_uri": "https://localhost:8080/"
        },
        "id": "fyYTSHwSc3Nq",
        "outputId": "a0c831d2-927a-445d-f0eb-6d059838ec4d"
      },
      "execution_count": null,
      "outputs": [
        {
          "output_type": "execute_result",
          "data": {
            "text/plain": [
              "[2, 7, 3]"
            ]
          },
          "metadata": {},
          "execution_count": 16
        }
      ]
    },
    {
      "cell_type": "markdown",
      "source": [
        "dying paths\n"
      ],
      "metadata": {
        "id": "x_DXo8n3id5t"
      }
    },
    {
      "cell_type": "markdown",
      "source": [
        "closest coordinate\n",
        "\n",
        "\n",
        "\n",
        "\n",
        "\n",
        "\n",
        "\n",
        "\n",
        "\n",
        "\n",
        "\n",
        "\n",
        "\n",
        "\n",
        "\n",
        "\n",
        "\n",
        "\n",
        "\n",
        "\n"
      ],
      "metadata": {
        "id": "VNikzxm9DBFR"
      }
    },
    {
      "cell_type": "code",
      "source": [
        "t = tree(2, [tree(7, [tree(3), tree(6, [tree(5), tree(11)])] ), tree(15)])\n",
        "\n",
        "\n",
        "def pre_order(t):\n",
        "  if is_leaf(t):\n",
        "    return print(label(t))\n",
        "  else:\n",
        "    for b in branches(t):\n",
        "      return pre_order(b)\n",
        "pre_order(t)"
      ],
      "metadata": {
        "colab": {
          "base_uri": "https://localhost:8080/"
        },
        "id": "vNIMUpLjKO-f",
        "outputId": "141dc41e-6511-4419-bbc9-1bc50027fbc4"
      },
      "execution_count": null,
      "outputs": [
        {
          "output_type": "stream",
          "name": "stdout",
          "text": [
            "3\n"
          ]
        }
      ]
    },
    {
      "cell_type": "code",
      "source": [
        "t = tree(0, [tree(1), tree(2, [tree(3), tree(4)])])\n",
        "def in_order(t):\n",
        "  if is_leaf(t):\n",
        "    yield label(t)\n",
        "  else:\n",
        "    for b in branches(t):\n",
        "      yield from in_order(b)\n",
        "list(in_order(t))"
      ],
      "metadata": {
        "colab": {
          "base_uri": "https://localhost:8080/"
        },
        "id": "i33EEN1tRd8B",
        "outputId": "30034464-4f71-4176-df25-3b5a88b5212b"
      },
      "execution_count": null,
      "outputs": [
        {
          "output_type": "execute_result",
          "data": {
            "text/plain": [
              "[1, 3, 4]"
            ]
          },
          "metadata": {},
          "execution_count": 9
        }
      ]
    },
    {
      "cell_type": "code",
      "source": [
        "def all_sums(lst):\n",
        "  if not lst:\n",
        "    return []\n",
        "  else:\n",
        "    return all_sums_[lst[1:[)all_sums(lst[1:]) + lst[0]"
      ],
      "metadata": {
        "id": "CzA6MW9dxhHI"
      },
      "execution_count": null,
      "outputs": []
    },
    {
      "cell_type": "code",
      "source": [
        "def flatten(s):\n",
        "    \"\"\"\n",
        "    Create a generator that sequentially yields the\n",
        "    elements of a potentially deep list.\n",
        "    >>> list(flatten([1, 2, 3]))\n",
        "    [1, 2, 3]\n",
        "    >>> list(flatten([1, [2], [3, [4, 5]]]))\n",
        "    [1, 2, 3, 4, 5]\n",
        "    \"\"\"\n",
        "    for i in s:\n",
        "        if type(i) is not list:\n",
        "            yield i\n",
        "        else:\n",
        "            yield from flatten(i)\n",
        "\n",
        "print(list(flatten([1, [2], [3, [4]]])))"
      ],
      "metadata": {
        "colab": {
          "base_uri": "https://localhost:8080/"
        },
        "id": "m5UFbPJoVQfO",
        "outputId": "befb7b41-9ecf-499a-8d97-d5eac307f384"
      },
      "execution_count": null,
      "outputs": [
        {
          "output_type": "stream",
          "name": "stdout",
          "text": [
            "[1, 2, 3, 4]\n"
          ]
        }
      ]
    },
    {
      "cell_type": "code",
      "source": [
        "class Share:\n",
        "  \"\"\"\n",
        "  Define the Share object, which share 1.\n",
        "  If a Share is instantiated, that Share will have all 1 stored in its 'mine' variable.\n",
        "  If another Share is instantiated, both Share's will have 0.5 stored in their 'mine'.\n",
        "  If 5 share's are instantiated, each Share will have 0.2 stored in their 'mine'.\n",
        "  Implement Share such that each instance stores an array of all Share's in existence.\n",
        "  \"\"\"\n",
        "  \n",
        "  ours = 1\n",
        "  us = []\n",
        "\n",
        "  def __init__(self):\n",
        "    Share.us.append(self)\n",
        "    Share.redistribute()\n",
        "    identity = len(us)\n",
        "  \n",
        "  def redistribute():\n",
        "    for i in Share.us:\n",
        "      i.mine = Share.ours / len(Share.us)\n",
        "\n",
        "  def __repr__(self):\n",
        "    return f'{round(100 * self.mine, 2)}%'"
      ],
      "metadata": {
        "id": "IhQPa-wYmZl3"
      },
      "execution_count": null,
      "outputs": []
    },
    {
      "cell_type": "code",
      "source": [
        "class Selfish(Share):\n",
        "    # Give this share an amount by taking an equal amount from every other Share.\n",
        "    def redistribute(self, amount):\n",
        "      ours -=\n",
        "      redistribute()\n",
        "      self.mine += amount\n",
        "      Share.ours -= amount\n",
        "    # Targets a Share object\n",
        "    def give_me(self):\n",
        "      for i in Selfish.us\n",
        "\n"
      ],
      "metadata": {
        "id": "V9jfr26S0o-t"
      },
      "execution_count": null,
      "outputs": []
    },
    {
      "cell_type": "code",
      "source": [
        "a = Share()\n",
        "b = Share()\n",
        "c = Share()\n",
        "print(Share.us)\n",
        "a.selfish(0.2)\n",
        "print(Share.us)\n"
      ],
      "metadata": {
        "colab": {
          "base_uri": "https://localhost:8080/",
          "height": 235
        },
        "id": "PvoKDZkrrXIR",
        "outputId": "7dda75d4-79f9-43a2-caa9-a1a1c595860a"
      },
      "execution_count": null,
      "outputs": [
        {
          "output_type": "stream",
          "name": "stdout",
          "text": [
            "[33.33%, 33.33%, 33.33%]\n"
          ]
        },
        {
          "output_type": "error",
          "ename": "AttributeError",
          "evalue": "ignored",
          "traceback": [
            "\u001b[0;31m---------------------------------------------------------------------------\u001b[0m",
            "\u001b[0;31mAttributeError\u001b[0m                            Traceback (most recent call last)",
            "\u001b[0;32m<ipython-input-76-4e7901dab5c4>\u001b[0m in \u001b[0;36m<module>\u001b[0;34m\u001b[0m\n\u001b[1;32m      3\u001b[0m \u001b[0mc\u001b[0m \u001b[0;34m=\u001b[0m \u001b[0mShare\u001b[0m\u001b[0;34m(\u001b[0m\u001b[0;34m)\u001b[0m\u001b[0;34m\u001b[0m\u001b[0;34m\u001b[0m\u001b[0m\n\u001b[1;32m      4\u001b[0m \u001b[0mprint\u001b[0m\u001b[0;34m(\u001b[0m\u001b[0mShare\u001b[0m\u001b[0;34m.\u001b[0m\u001b[0mus\u001b[0m\u001b[0;34m)\u001b[0m\u001b[0;34m\u001b[0m\u001b[0;34m\u001b[0m\u001b[0m\n\u001b[0;32m----> 5\u001b[0;31m \u001b[0ma\u001b[0m\u001b[0;34m.\u001b[0m\u001b[0mselfish\u001b[0m\u001b[0;34m(\u001b[0m\u001b[0;36m0.2\u001b[0m\u001b[0;34m)\u001b[0m\u001b[0;34m\u001b[0m\u001b[0;34m\u001b[0m\u001b[0m\n\u001b[0m\u001b[1;32m      6\u001b[0m \u001b[0mprint\u001b[0m\u001b[0;34m(\u001b[0m\u001b[0mShare\u001b[0m\u001b[0;34m.\u001b[0m\u001b[0mus\u001b[0m\u001b[0;34m)\u001b[0m\u001b[0;34m\u001b[0m\u001b[0;34m\u001b[0m\u001b[0m\n",
            "\u001b[0;31mAttributeError\u001b[0m: 'Share' object has no attribute 'selfish'"
          ]
        }
      ]
    },
    {
      "cell_type": "code",
      "source": [
        "s = [[False, True,  False, False, False],\n",
        "     [False, False, True,  False, False],\n",
        "     [False,  False, False, False, False],\n",
        "     [False, False, False, False, False],\n",
        "     [False, False, False, False, False]]\n",
        "\n",
        "def cycles(s):\n",
        "  def helper(i, j, target):\n",
        "    if i == j or j == len(s):\n",
        "      return False\n",
        "    elif s[i][target]:\n",
        "      return True\n",
        "    elif s[i][j]:\n",
        "      return helper(j, 0, target)\n",
        "    else:\n",
        "      return helper(i, j + 1, target)\n",
        "\n",
        "  return any([helper(i, 0, i)] for i in range(len(s)))\n"
      ],
      "metadata": {
        "id": "mPmVKbfY5Ku5"
      },
      "execution_count": null,
      "outputs": []
    },
    {
      "cell_type": "code",
      "source": [
        "def anaa(lst, n):\n",
        "  \"\"\"\n",
        "  Return a list of all unique subsequences, represented as lists, of parameter 'lst', of size 'n'.\n",
        "  permutations of a string\n",
        "  >>> s = [1, 2, 3, 4, 5]\n",
        "  >>> sc_sub(s, 0)\n",
        "  [[]]\n",
        "  >>> sc_sub(s, 1)\n",
        "  >>> sc_sub(s, 2)\n",
        "  [[1, 2], [1, 3], [1, 4], [1, 5], [2, 3], [2, 4], [2, 5], [3, 4], [3, 5], [4, 5]]\n",
        "  \"\"\"\n",
        "  if n == 0:\n",
        "    return ''\n",
        "  if len(lst) == n:\n",
        "    return [lst]\n",
        "  \n",
        "  with_first = [lst[0] + x for x in ana(lst[1:], n - 1)]\n",
        "  without_first = ana(lst[1:], n)\n",
        "\n",
        "  return with_first + without_first"
      ],
      "metadata": {
        "id": "pOMpMrVtPea6"
      },
      "execution_count": null,
      "outputs": []
    },
    {
      "cell_type": "markdown",
      "source": [],
      "metadata": {
        "id": "luoMFCtwS_MA"
      }
    },
    {
      "cell_type": "code",
      "source": [
        "def ana(s):\n",
        "  if len(s) == 1:\n",
        "    return [s]\n",
        "  else:\n",
        "    with_first = [[s[0]] + l for l in ana(s[1:])]\n",
        "    without_first = ana(s[1:])\n",
        "    return with_first + without_first"
      ],
      "metadata": {
        "id": "rhDIFBcwrVgi"
      },
      "execution_count": null,
      "outputs": []
    },
    {
      "cell_type": "code",
      "source": [
        "s = [0, 1, 2]\n",
        "ana(s)"
      ],
      "metadata": {
        "colab": {
          "base_uri": "https://localhost:8080/"
        },
        "id": "HcW9ObsbQhFV",
        "outputId": "8efb1d81-34b1-4884-ccf2-73ff3ba418fa"
      },
      "execution_count": null,
      "outputs": [
        {
          "output_type": "execute_result",
          "data": {
            "text/plain": [
              "[[0, 1, 2], [0, 2], [1, 2], [2]]"
            ]
          },
          "metadata": {},
          "execution_count": 20
        }
      ]
    },
    {
      "cell_type": "code",
      "source": [
        "def ana(s):\n",
        "    if not s:\n",
        "      return ['']\n",
        "    res = []\n",
        "    for i in range(len(s)):\n",
        "      res += [s[i] + x for x in ana(s[:i] + s[i + 1:])]\n",
        "\n",
        "    return res"
      ],
      "metadata": {
        "id": "HZKT9NjUtdWI"
      },
      "execution_count": null,
      "outputs": []
    },
    {
      "cell_type": "code",
      "source": [
        "def permutList(l):\n",
        "    if not l:\n",
        "            return [[]]\n",
        "    res = []\n",
        "    for e in l:\n",
        "            temp = l[:]\n",
        "            temp.remove(e)\n",
        "            res.extend([[e] + r for r in permutList(temp)])\n",
        "\n",
        "    return res"
      ],
      "metadata": {
        "id": "CYogRclF0fIz"
      },
      "execution_count": null,
      "outputs": []
    },
    {
      "cell_type": "markdown",
      "source": [
        "# Tree Class"
      ],
      "metadata": {
        "id": "A7GwSKbnla07"
      }
    },
    {
      "cell_type": "code",
      "source": [
        "class Tree:\n",
        "    \"\"\"\n",
        "    >>> t = Tree(3, [Tree(2, [Tree(5)]), Tree(4)])\n",
        "    >>> t.label\n",
        "    3\n",
        "    >>> t.branches[0].label\n",
        "    2\n",
        "    >>> t.branches[1].is_leaf()\n",
        "    True\n",
        "    \"\"\"\n",
        "    def __init__(self, label, branches=[]):\n",
        "        for b in branches:\n",
        "            assert isinstance(b, Tree)\n",
        "        self.label = label\n",
        "        self.branches = list(branches)\n",
        "\n",
        "    def is_leaf(self):\n",
        "        return not self.branches\n",
        "      \n",
        "    def __repr__(self):\n",
        "      if self.branches:\n",
        "        return 'Tree({0}, {1})'.format(self.label, repr(self.branches))\n",
        "      else:\n",
        "        return 'Tree({0})'.format(repr(self.label))"
      ],
      "metadata": {
        "id": "ByYtzMlzjxGJ"
      },
      "execution_count": 3,
      "outputs": []
    },
    {
      "cell_type": "code",
      "source": [
        "def delete_naive(t, x):\n",
        "  for b in t.branches:\n",
        "    if b.label == x:\n",
        "      t.branches = b.branches\n",
        "    delete(b, x)"
      ],
      "metadata": {
        "id": "7d7fiCWVzVoj"
      },
      "execution_count": null,
      "outputs": []
    },
    {
      "cell_type": "code",
      "source": [
        "def delete_wrong_order(t, x):\n",
        "  for b in t.branches:\n",
        "    if b.label == x:\n",
        "      t.branches += b.branches\n",
        "      t.branches.remove(b)\n",
        "    delete(b, x)"
      ],
      "metadata": {
        "id": "Jm16UWyszk5A"
      },
      "execution_count": null,
      "outputs": []
    },
    {
      "cell_type": "code",
      "source": [
        "def delete_with insert(t, x):\n",
        "  t_b = t.branches\n",
        "  for i in range(len(t_b)):\n",
        "    if t_b[i].label == x:\n",
        "      for b_b in t_b[i].branches:\n",
        "        t_b.insert(i + 1, b_b)\n",
        "      t_b.remove(t_b[i])\n",
        "    delete(t_b[i], x)"
      ],
      "metadata": {
        "id": "LNrLRiWqj8Aq"
      },
      "execution_count": null,
      "outputs": []
    },
    {
      "cell_type": "code",
      "source": [
        "def delete_broken_range(t, x):\n",
        "  for i in range(len(t.branches)):\n",
        "    b = t.branches[i]\n",
        "    if b.label == x:\n",
        "      t.branches = t.branches[:i] + b.branches + t.branches[i + 1:]\n",
        "    delete(b, x)"
      ],
      "metadata": {
        "id": "Be1xZmoMttoY"
      },
      "execution_count": null,
      "outputs": []
    },
    {
      "cell_type": "code",
      "source": [
        "def delete_not_leaves(t, x):\n",
        "  for i in range(len(t.branches))[::-1]:\n",
        "  # for i in range(len(t.branches)):\n",
        "    b = t.branches[i]\n",
        "    if b.label == x:\n",
        "      t.branches = t.branches[:i] + b.branches + t.branches[i + 1:]\n",
        "    delete(b, x)"
      ],
      "metadata": {
        "id": "gRU-2pudzNOT"
      },
      "execution_count": null,
      "outputs": []
    },
    {
      "cell_type": "code",
      "source": [
        "def delete(t, x):\n",
        "  for i in range(len(t.branches))[::-1]:\n",
        "    b = t.branches[i]\n",
        "    delete(b, x)\n",
        "    if b.label == x:\n",
        "      t.branches = t.branches[:i] + b.branches + t.branches[i + 1:]"
      ],
      "metadata": {
        "id": "Oj6EKIP790Gk"
      },
      "execution_count": null,
      "outputs": []
    },
    {
      "cell_type": "code",
      "source": [
        "t = Tree(3, [Tree(2, [Tree(2), Tree(2)]), Tree(2), Tree(2, [Tree(2, [Tree(2), Tree(2)])])])\n",
        "delete(t, 2)\n",
        "t"
      ],
      "metadata": {
        "colab": {
          "base_uri": "https://localhost:8080/"
        },
        "id": "UQl2YOablg9A",
        "outputId": "24525b7b-fc00-4fc0-c2d0-04dcfe219979"
      },
      "execution_count": null,
      "outputs": [
        {
          "output_type": "execute_result",
          "data": {
            "text/plain": [
              "Tree(3)"
            ]
          },
          "metadata": {},
          "execution_count": 86
        }
      ]
    },
    {
      "cell_type": "code",
      "source": [
        "def bubble(t, x):\n",
        "  for b in t.branches:\n",
        "    bubble(b, x)\n",
        "    if b.label == x:\n",
        "      tmp = b.label\n",
        "      b.label = t.label\n",
        "      t.label = tmp\n",
        "  "
      ],
      "metadata": {
        "id": "fJYAlGZ-6k5A"
      },
      "execution_count": null,
      "outputs": []
    },
    {
      "cell_type": "code",
      "source": [
        "t = Tree(3, [Tree(2, [Tree(1), Tree(4)])])\n",
        "overthrow(t, 1)\n",
        "t"
      ],
      "metadata": {
        "colab": {
          "base_uri": "https://localhost:8080/"
        },
        "id": "_vHT3ln62T_L",
        "outputId": "d3dc4fa2-aa59-49ee-85f3-c9642a381d99"
      },
      "execution_count": null,
      "outputs": [
        {
          "output_type": "execute_result",
          "data": {
            "text/plain": [
              "Tree(3, [Tree(1, [Tree(2), Tree(4)])])"
            ]
          },
          "metadata": {},
          "execution_count": 4
        }
      ]
    },
    {
      "cell_type": "code",
      "source": [
        "def overthrow(t, x):\n",
        "  \"\"\"\n",
        "  Write a function that takes tree 't' and bubbles 'x' to the root.\n",
        "  The 'bubble' process entails swapping 'x' with its parent until\n",
        "  it is located at the root.\n",
        "  \"\"\"\n",
        "  for b in t.branches:\n",
        "    if b.label == x:\n",
        "      t.label, b.label = b.label, t.label\n",
        "    overthrow(b, x)  "
      ],
      "metadata": {
        "id": "jVVTixk-4Uat"
      },
      "execution_count": null,
      "outputs": []
    },
    {
      "cell_type": "code",
      "source": [
        "def brackets(t, comp):\n",
        "  for b in t.branches:\n",
        "    brackets(b)\n",
        "    t.label = max(b, )"
      ],
      "metadata": {
        "id": "1ImqmcUWAYtP"
      },
      "execution_count": null,
      "outputs": []
    },
    {
      "cell_type": "code",
      "source": [
        "class Link:\n",
        "    \"\"\"A linked list.\"\"\"\n",
        "    empty = ()\n",
        "\n",
        "    def __init__(self, first, rest=empty):\n",
        "        assert rest is Link.empty or isinstance(rest, Link)\n",
        "        self.first = first\n",
        "        self.rest = rest\n",
        "\n",
        "    def __repr__(self):\n",
        "        if self.rest:\n",
        "            rest_repr = ', ' + repr(self.rest)\n",
        "        else:\n",
        "            rest_repr = ''\n",
        "        return 'Link(' + repr(self.first) + rest_repr + ')'\n",
        "\n",
        "    def __str__(self):\n",
        "        string = '<'\n",
        "        while self.rest is not Link.empty:\n",
        "            string += str(self.first) + ' '\n",
        "            self = self.rest\n",
        "        return string + str(self.first) + '>'"
      ],
      "metadata": {
        "id": "XtKHaF_HrMPN"
      },
      "execution_count": null,
      "outputs": []
    },
    {
      "cell_type": "code",
      "source": [
        "def rev(lnk):\n",
        "  s = []\n",
        "  if lnk.rest is Link.empty:\n",
        "    return [lnk.first]\n",
        "  else:\n",
        "    return rev(lnk.rest) + [lnk.first]"
      ],
      "metadata": {
        "id": "ZFh76QTApke9"
      },
      "execution_count": null,
      "outputs": []
    },
    {
      "cell_type": "code",
      "source": [
        "l = Link(1, Link(2, Link(3, Link(4, Link(5)))))\n",
        "t = rev(l)\n",
        "assert [5, 4, 3, 2, 1] == t, f'Expected [5, 4, 3, 2, 1] but got {t}.'"
      ],
      "metadata": {
        "id": "yCmi64HysSJi"
      },
      "execution_count": null,
      "outputs": []
    },
    {
      "cell_type": "code",
      "source": [
        "def sorted1(lnk):\n",
        "  while lnk is not Link.empty and lnk.rest is not Link.empty:\n",
        "    if lnk.first > lnk.rest.first:\n",
        "      return False\n",
        "    lnk = lnk.rest\n",
        "  return True\n",
        "\n",
        "def bubblink1(lnk):\n",
        "  if lnk.rest is Link.empty:\n",
        "      return\n",
        "  def helper1(lnk, min):\n",
        "    if lnk is not Link.empty and lnk.rest is not Link.empty:\n",
        "      if lnk.first < min:\n",
        "        min = lnk.first\n",
        "        helper(lnk.rest, min)\n",
        "      if lnk.rest.first == min:\n",
        "        lnk.first, lnk.rest.first = lnk.rest.first, lnk.first\n",
        "  return helper(lnk.rest, float('inf'))\n",
        "\n",
        "def sort1(lnk):\n",
        "  while not sorted(lnk):\n",
        "    bubblink(lnk)\n",
        "\n",
        "def bubblink45(lnk):\n",
        "  if lnk.rest is Link.empty:\n",
        "      return\n",
        "  def helper(lnk, seen):\n",
        "    if lnk is not Link.empty: # and lnk.rest is not Link.empty:\n",
        "      if lnk.first < min:\n",
        "        min = lnk.first\n",
        "    helper(lnk.rest, min)\n",
        "    if lnk.first == min:\n",
        "      #min = lnk.first\n",
        "      lnk.first, lnk.rest.first = lnk.rest.first, lnk.first\n",
        "  return helper(lnk, [])"
      ],
      "metadata": {
        "id": "vpufyUFvv5Mn"
      },
      "execution_count": null,
      "outputs": []
    },
    {
      "cell_type": "code",
      "source": [
        "def sorted(lnk):\n",
        "  while lnk is not Link.empty and lnk.rest is not Link.empty:\n",
        "    if lnk.first > lnk.rest.first:\n",
        "      return False\n",
        "    lnk = lnk.rest\n",
        "  return True\n",
        "\n",
        "def bubblink(s, k):\n",
        "  if s is Link.empty:\n",
        "      return\n",
        "  def helper(s, seen):\n",
        "    if s is not Link.empty and s.rest is not Link.empty: # and lnk.rest is not Link.empty:\n",
        "      seen.append(s.rest.first)\n",
        "      helper(s.rest, seen)\n",
        "      m = min(seen, key=k)\n",
        "      if s.rest.first == m:\n",
        "        s.first, s.rest.first = s.rest.first, s.first\n",
        "  return helper(s, [s.first])\n",
        "\n",
        "def sort(lnk):\n",
        "  while not sorted(lnk):\n",
        "    bubblink(lnk)"
      ],
      "metadata": {
        "id": "ttbBNiIXhrvJ"
      },
      "execution_count": null,
      "outputs": []
    },
    {
      "cell_type": "code",
      "source": [
        "l = Link(-1, Link(-2, Link(1, Link(2, Link(0)))))\n",
        "bubblink(l, lambda x: -x)\n",
        "l"
      ],
      "metadata": {
        "colab": {
          "base_uri": "https://localhost:8080/"
        },
        "id": "DD6Gdkt5zvbq",
        "outputId": "6d9fba8e-a8d7-417d-a118-d2d39bea82f0"
      },
      "execution_count": null,
      "outputs": [
        {
          "output_type": "execute_result",
          "data": {
            "text/plain": [
              "Link(2, Link(-1, Link(-2, Link(1, Link(0)))))"
            ]
          },
          "metadata": {},
          "execution_count": 81
        }
      ]
    },
    {
      "cell_type": "code",
      "source": [
        "l = Link(1, Link(2, Link(3, Link(4, Link(5)))))\n",
        "bubblink(l)\n",
        "l"
      ],
      "metadata": {
        "colab": {
          "base_uri": "https://localhost:8080/"
        },
        "id": "P4xrB912iFCb",
        "outputId": "5acee02a-a2bd-47b3-ee0c-52a2f497c967"
      },
      "execution_count": null,
      "outputs": [
        {
          "output_type": "execute_result",
          "data": {
            "text/plain": [
              "Link(1, Link(2, Link(3, Link(4, Link(5)))))"
            ]
          },
          "metadata": {},
          "execution_count": 66
        }
      ]
    },
    {
      "cell_type": "code",
      "source": [
        "l = Link(6, Link(5, Link(1, Link(2, Link(0)))))\n",
        "sort(l)\n",
        "l"
      ],
      "metadata": {
        "colab": {
          "base_uri": "https://localhost:8080/",
          "height": 346
        },
        "id": "3khfLqDXWFko",
        "outputId": "336d222d-fba3-400e-a851-7a1aa8e19b68"
      },
      "execution_count": null,
      "outputs": [
        {
          "output_type": "error",
          "ename": "KeyboardInterrupt",
          "evalue": "ignored",
          "traceback": [
            "\u001b[0;31m---------------------------------------------------------------------------\u001b[0m",
            "\u001b[0;31mKeyboardInterrupt\u001b[0m                         Traceback (most recent call last)",
            "\u001b[0;32m<ipython-input-70-7754f1e6ea21>\u001b[0m in \u001b[0;36m<module>\u001b[0;34m\u001b[0m\n\u001b[1;32m      1\u001b[0m \u001b[0ml\u001b[0m \u001b[0;34m=\u001b[0m \u001b[0mLink\u001b[0m\u001b[0;34m(\u001b[0m\u001b[0;36m6\u001b[0m\u001b[0;34m,\u001b[0m \u001b[0mLink\u001b[0m\u001b[0;34m(\u001b[0m\u001b[0;36m5\u001b[0m\u001b[0;34m,\u001b[0m \u001b[0mLink\u001b[0m\u001b[0;34m(\u001b[0m\u001b[0;36m1\u001b[0m\u001b[0;34m,\u001b[0m \u001b[0mLink\u001b[0m\u001b[0;34m(\u001b[0m\u001b[0;36m2\u001b[0m\u001b[0;34m,\u001b[0m \u001b[0mLink\u001b[0m\u001b[0;34m(\u001b[0m\u001b[0;36m0\u001b[0m\u001b[0;34m)\u001b[0m\u001b[0;34m)\u001b[0m\u001b[0;34m)\u001b[0m\u001b[0;34m)\u001b[0m\u001b[0;34m)\u001b[0m\u001b[0;34m\u001b[0m\u001b[0;34m\u001b[0m\u001b[0m\n\u001b[0;32m----> 2\u001b[0;31m \u001b[0msort\u001b[0m\u001b[0;34m(\u001b[0m\u001b[0ml\u001b[0m\u001b[0;34m)\u001b[0m\u001b[0;34m\u001b[0m\u001b[0;34m\u001b[0m\u001b[0m\n\u001b[0m\u001b[1;32m      3\u001b[0m \u001b[0ml\u001b[0m\u001b[0;34m\u001b[0m\u001b[0;34m\u001b[0m\u001b[0m\n",
            "\u001b[0;32m<ipython-input-65-d2335cfa82c7>\u001b[0m in \u001b[0;36msort\u001b[0;34m(lnk)\u001b[0m\n\u001b[1;32m     18\u001b[0m \u001b[0;34m\u001b[0m\u001b[0m\n\u001b[1;32m     19\u001b[0m \u001b[0;32mdef\u001b[0m \u001b[0msort\u001b[0m\u001b[0;34m(\u001b[0m\u001b[0mlnk\u001b[0m\u001b[0;34m)\u001b[0m\u001b[0;34m:\u001b[0m\u001b[0;34m\u001b[0m\u001b[0;34m\u001b[0m\u001b[0m\n\u001b[0;32m---> 20\u001b[0;31m   \u001b[0;32mwhile\u001b[0m \u001b[0;32mnot\u001b[0m \u001b[0msorted\u001b[0m\u001b[0;34m(\u001b[0m\u001b[0mlnk\u001b[0m\u001b[0;34m)\u001b[0m\u001b[0;34m:\u001b[0m\u001b[0;34m\u001b[0m\u001b[0;34m\u001b[0m\u001b[0m\n\u001b[0m\u001b[1;32m     21\u001b[0m     \u001b[0mbubblink\u001b[0m\u001b[0;34m(\u001b[0m\u001b[0mlnk\u001b[0m\u001b[0;34m)\u001b[0m\u001b[0;34m\u001b[0m\u001b[0;34m\u001b[0m\u001b[0m\n",
            "\u001b[0;32m<ipython-input-65-d2335cfa82c7>\u001b[0m in \u001b[0;36msorted\u001b[0;34m(lnk)\u001b[0m\n\u001b[1;32m      1\u001b[0m \u001b[0;32mdef\u001b[0m \u001b[0msorted\u001b[0m\u001b[0;34m(\u001b[0m\u001b[0mlnk\u001b[0m\u001b[0;34m)\u001b[0m\u001b[0;34m:\u001b[0m\u001b[0;34m\u001b[0m\u001b[0;34m\u001b[0m\u001b[0m\n\u001b[1;32m      2\u001b[0m   \u001b[0;32mwhile\u001b[0m \u001b[0mlnk\u001b[0m \u001b[0;32mis\u001b[0m \u001b[0;32mnot\u001b[0m \u001b[0mLink\u001b[0m\u001b[0;34m.\u001b[0m\u001b[0mempty\u001b[0m \u001b[0;32mand\u001b[0m \u001b[0mlnk\u001b[0m\u001b[0;34m.\u001b[0m\u001b[0mrest\u001b[0m \u001b[0;32mis\u001b[0m \u001b[0;32mnot\u001b[0m \u001b[0mLink\u001b[0m\u001b[0;34m.\u001b[0m\u001b[0mempty\u001b[0m\u001b[0;34m:\u001b[0m\u001b[0;34m\u001b[0m\u001b[0;34m\u001b[0m\u001b[0m\n\u001b[0;32m----> 3\u001b[0;31m     \u001b[0;32mif\u001b[0m \u001b[0mlnk\u001b[0m\u001b[0;34m.\u001b[0m\u001b[0mfirst\u001b[0m \u001b[0;34m>\u001b[0m \u001b[0mlnk\u001b[0m\u001b[0;34m.\u001b[0m\u001b[0mrest\u001b[0m\u001b[0;34m.\u001b[0m\u001b[0mfirst\u001b[0m\u001b[0;34m:\u001b[0m\u001b[0;34m\u001b[0m\u001b[0;34m\u001b[0m\u001b[0m\n\u001b[0m\u001b[1;32m      4\u001b[0m       \u001b[0;32mreturn\u001b[0m \u001b[0;32mFalse\u001b[0m\u001b[0;34m\u001b[0m\u001b[0;34m\u001b[0m\u001b[0m\n\u001b[1;32m      5\u001b[0m     \u001b[0mlnk\u001b[0m \u001b[0;34m=\u001b[0m \u001b[0mlnk\u001b[0m\u001b[0;34m.\u001b[0m\u001b[0mrest\u001b[0m\u001b[0;34m\u001b[0m\u001b[0;34m\u001b[0m\u001b[0m\n",
            "\u001b[0;31mKeyboardInterrupt\u001b[0m: "
          ]
        }
      ]
    },
    {
      "cell_type": "code",
      "source": [
        "l = Link(1, Link(2, Link(3, Link(4, Link(5)))))\n",
        "sorted(l)"
      ],
      "metadata": {
        "colab": {
          "base_uri": "https://localhost:8080/"
        },
        "id": "jrc-BeKjme1I",
        "outputId": "817d0405-fd79-444c-e202-0893682a899f"
      },
      "execution_count": null,
      "outputs": [
        {
          "output_type": "execute_result",
          "data": {
            "text/plain": [
              "False"
            ]
          },
          "metadata": {},
          "execution_count": 68
        }
      ]
    },
    {
      "cell_type": "code",
      "source": [
        "def interlink1(lst1, lst2):\n",
        "  l1, l2 = lst1, lst2\n",
        "  while l1 is not Link.empty and l2 is not Link.empty:\n",
        "    temp1 = l1.rest\n",
        "    temp2 = l2.rest\n",
        "    l1.rest = temp2\n",
        "    l2.rest = temp1\n",
        "    l1, l2 = l1.rest, l2.rest"
      ],
      "metadata": {
        "id": "057-07Jkjwe4"
      },
      "execution_count": null,
      "outputs": []
    },
    {
      "cell_type": "code",
      "source": [
        "def interlink(lst1, lst2):\n",
        "  if lst1 is not Link.empty and lst2 is not Link.empty:\n",
        "    tmp1, tmp2 = lst1.rest, lst2.rest\n",
        "    lst1.rest, lst2.rest = tmp2, tmp1\n",
        "    interlink(tmp1, tmp2)"
      ],
      "metadata": {
        "id": "QzlFZs7y8HZc"
      },
      "execution_count": null,
      "outputs": []
    },
    {
      "cell_type": "code",
      "source": [
        "s = Link(1, Link(2, Link(3, Link(4, Link(5)))))\n",
        "t = Link(6, Link(7, Link(8, Link(9, Link(10, Link(11))))))\n",
        "interlink(s, t)\n",
        "s"
      ],
      "metadata": {
        "colab": {
          "base_uri": "https://localhost:8080/"
        },
        "id": "B7q18smmuZxU",
        "outputId": "af6c78f0-fbb0-4b52-a2f5-4ccd82d1d869"
      },
      "execution_count": null,
      "outputs": [
        {
          "output_type": "execute_result",
          "data": {
            "text/plain": [
              "Link(1, Link(7, Link(3, Link(9, Link(5, Link(11))))))"
            ]
          },
          "metadata": {},
          "execution_count": 88
        }
      ]
    },
    {
      "cell_type": "code",
      "source": [
        "def mid(s):\n",
        "  def helper(s, count):\n",
        "    if s is not Link.empty:\n",
        "      helper(s.rest, count + 1)\n",
        "    total = count\n",
        "    if count == total // 2:\n",
        "      return s.first\n",
        "  return helper(s, 1)"
      ],
      "metadata": {
        "id": "Zc8tx4ty9GLS"
      },
      "execution_count": null,
      "outputs": []
    },
    {
      "cell_type": "code",
      "source": [
        "s = Link(1, Link(2, Link(3, Link(4, Link(5)))))\n",
        "s = mid(s)\n",
        "s"
      ],
      "metadata": {
        "id": "CR1_Rtfs9pFG"
      },
      "execution_count": null,
      "outputs": []
    },
    {
      "cell_type": "code",
      "source": [
        "ana('brain')"
      ],
      "metadata": {
        "colab": {
          "base_uri": "https://localhost:8080/",
          "height": 166
        },
        "id": "SoJOhdFmwPEy",
        "outputId": "0f265a72-c706-48df-b7a9-9b42ff36736e"
      },
      "execution_count": null,
      "outputs": [
        {
          "output_type": "error",
          "ename": "NameError",
          "evalue": "ignored",
          "traceback": [
            "\u001b[0;31m---------------------------------------------------------------------------\u001b[0m",
            "\u001b[0;31mNameError\u001b[0m                                 Traceback (most recent call last)",
            "\u001b[0;32m<ipython-input-85-b59dc2595c1d>\u001b[0m in \u001b[0;36m<module>\u001b[0;34m\u001b[0m\n\u001b[0;32m----> 1\u001b[0;31m \u001b[0mana\u001b[0m\u001b[0;34m(\u001b[0m\u001b[0;34m'brain'\u001b[0m\u001b[0;34m)\u001b[0m\u001b[0;34m\u001b[0m\u001b[0;34m\u001b[0m\u001b[0m\n\u001b[0m",
            "\u001b[0;31mNameError\u001b[0m: name 'ana' is not defined"
          ]
        }
      ]
    },
    {
      "cell_type": "markdown",
      "source": [
        "## Level"
      ],
      "metadata": {
        "id": "qjma6Ro3lfXE"
      }
    },
    {
      "cell_type": "code",
      "source": [
        "def leve12fl(t, res, l):\n",
        "  #res = []\n",
        "  #curr = []\n",
        "  #curr.append(t.label)\n",
        "  for b in t.branches:\n",
        "    level(b)\n",
        "  \n",
        "  return res\n"
      ],
      "metadata": {
        "id": "AJoHNbS7kxak"
      },
      "execution_count": 13,
      "outputs": []
    },
    {
      "cell_type": "code",
      "source": [
        "def level123(t, res, l):\n",
        "  if l == len(res):\n",
        "    res.append([])\n",
        "    res[level].append(t.label)\n",
        "  elif len(res) > level:\n",
        "    res[level].append(t.lavel)"
      ],
      "metadata": {
        "id": "-r67Y5kByiQ7"
      },
      "execution_count": null,
      "outputs": []
    },
    {
      "cell_type": "code",
      "source": [
        "def level(t, res, l):\n",
        "  if l == len(res):\n",
        "    res.append([])\n",
        "  res[l].append(t.label)\n",
        "  for b in t.branches:\n",
        "    level(b, res, l + 1)\n",
        "  return res"
      ],
      "metadata": {
        "id": "N-hwZwLR384C"
      },
      "execution_count": 25,
      "outputs": []
    },
    {
      "cell_type": "code",
      "source": [
        "t = Tree(1, [Tree(2, [Tree(4, [Tree(8)]), Tree(5)]), Tree(3, [Tree(6), Tree(7)])])\n",
        "level(t, [], 0)"
      ],
      "metadata": {
        "colab": {
          "base_uri": "https://localhost:8080/"
        },
        "id": "P54ArU4Tll98",
        "outputId": "d5359740-e230-4d03-d7fc-680fdb878bfd"
      },
      "execution_count": 36,
      "outputs": [
        {
          "output_type": "execute_result",
          "data": {
            "text/plain": [
              "[[1], [2, 3], [4, 5, 6, 7], [8]]"
            ]
          },
          "metadata": {},
          "execution_count": 36
        }
      ]
    }
  ]
}